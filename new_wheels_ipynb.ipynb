{
 "cells": [
  {
   "cell_type": "code",
   "execution_count": 5,
   "id": "612e18c5",
   "metadata": {},
   "outputs": [
    {
     "name": "stdout",
     "output_type": "stream",
     "text": [
      "The nb_black extension is already loaded. To reload it, use:\n",
      "  %reload_ext nb_black\n"
     ]
    },
    {
     "data": {
      "application/javascript": [
       "\n",
       "            setTimeout(function() {\n",
       "                var nbb_cell_id = 5;\n",
       "                var nbb_unformatted_code = \"# This is a python code formatting extention called Black\\n%load_ext nb_black\\n\\n# Libraries to read and manipulate data\\nimport pandas as pd\\nimport numpy as np\\n\\n# Libraries for data visualization\\nimport matplotlib.pyplot as plt\\n\\nimport glob\\nimport os\\n\\n%matplotlib inline\\nimport seaborn as sns\\n\\nplt.style.use(\\\"ggplot\\\")\\nsns.set_style(\\\"darkgrid\\\")\\nsns.set()\\n\\n# Libraries to split data, impute missing values\\nfrom sklearn.model_selection import train_test_split\\nfrom sklearn.impute import SimpleImputer\\n\\n# Libraries to import decision tree classifier and different ensemble classifiers\\nfrom sklearn.tree import DecisionTreeClassifier\\nfrom sklearn.ensemble import BaggingClassifier\\nfrom sklearn.ensemble import RandomForestClassifier\\nfrom sklearn.ensemble import AdaBoostClassifier, GradientBoostingClassifier\\nfrom xgboost import XGBClassifier\\nfrom sklearn.ensemble import StackingClassifier\\nfrom sklearn.model_selection import GridSearchCV\\n\\n# Libtune to tune model, get different metric scores\\nfrom sklearn import metrics\\nfrom sklearn.metrics import (\\n    confusion_matrix,\\n    plot_confusion_matrix,\\n    classification_report,\\n    accuracy_score,\\n    precision_score,\\n    recall_score,\\n    f1_score,\\n    roc_auc_score,\\n)\\n\\n# supress numerical display to 2 points of precision in scientific notation\\npd.set_option(\\\"display.float_format\\\", lambda x: \\\"%.2f\\\" % x)\\n\\n# remove the limit from the number of displayed columns and rows, so that the entire dataframe is visible and not truncated\\npd.set_option(\\\"display.max_columns\\\", None)\\npd.set_option(\\\"display.max_rows\\\", 200)\\n# pd.set_option('display.max_rows', None)from sklearn.tree import DecisionTreeClassifier # to build a classification tree\";\n",
       "                var nbb_formatted_code = \"# This is a python code formatting extention called Black\\n%load_ext nb_black\\n\\n# Libraries to read and manipulate data\\nimport pandas as pd\\nimport numpy as np\\n\\n# Libraries for data visualization\\nimport matplotlib.pyplot as plt\\n\\nimport glob\\nimport os\\n\\n%matplotlib inline\\nimport seaborn as sns\\n\\nplt.style.use(\\\"ggplot\\\")\\nsns.set_style(\\\"darkgrid\\\")\\nsns.set()\\n\\n# Libraries to split data, impute missing values\\nfrom sklearn.model_selection import train_test_split\\nfrom sklearn.impute import SimpleImputer\\n\\n# Libraries to import decision tree classifier and different ensemble classifiers\\nfrom sklearn.tree import DecisionTreeClassifier\\nfrom sklearn.ensemble import BaggingClassifier\\nfrom sklearn.ensemble import RandomForestClassifier\\nfrom sklearn.ensemble import AdaBoostClassifier, GradientBoostingClassifier\\nfrom xgboost import XGBClassifier\\nfrom sklearn.ensemble import StackingClassifier\\nfrom sklearn.model_selection import GridSearchCV\\n\\n# Libtune to tune model, get different metric scores\\nfrom sklearn import metrics\\nfrom sklearn.metrics import (\\n    confusion_matrix,\\n    plot_confusion_matrix,\\n    classification_report,\\n    accuracy_score,\\n    precision_score,\\n    recall_score,\\n    f1_score,\\n    roc_auc_score,\\n)\\n\\n# supress numerical display to 2 points of precision in scientific notation\\npd.set_option(\\\"display.float_format\\\", lambda x: \\\"%.2f\\\" % x)\\n\\n# remove the limit from the number of displayed columns and rows, so that the entire dataframe is visible and not truncated\\npd.set_option(\\\"display.max_columns\\\", None)\\npd.set_option(\\\"display.max_rows\\\", 200)\\n# pd.set_option('display.max_rows', None)from sklearn.tree import DecisionTreeClassifier # to build a classification tree\";\n",
       "                var nbb_cells = Jupyter.notebook.get_cells();\n",
       "                for (var i = 0; i < nbb_cells.length; ++i) {\n",
       "                    if (nbb_cells[i].input_prompt_number == nbb_cell_id) {\n",
       "                        if (nbb_cells[i].get_text() == nbb_unformatted_code) {\n",
       "                             nbb_cells[i].set_text(nbb_formatted_code);\n",
       "                        }\n",
       "                        break;\n",
       "                    }\n",
       "                }\n",
       "            }, 500);\n",
       "            "
      ],
      "text/plain": [
       "<IPython.core.display.Javascript object>"
      ]
     },
     "metadata": {},
     "output_type": "display_data"
    }
   ],
   "source": [
    "# This is a python code formatting extention called Black\n",
    "%load_ext nb_black\n",
    "\n",
    "# Libraries to read and manipulate data\n",
    "import pandas as pd\n",
    "import numpy as np\n",
    "\n",
    "# Libraries for data visualization\n",
    "import matplotlib.pyplot as plt\n",
    "\n",
    "import glob\n",
    "import os\n",
    "\n",
    "%matplotlib inline\n",
    "import seaborn as sns\n",
    "\n",
    "plt.style.use(\"ggplot\")\n",
    "sns.set_style(\"darkgrid\")\n",
    "sns.set()\n",
    "\n",
    "# Libraries to split data, impute missing values\n",
    "from sklearn.model_selection import train_test_split\n",
    "from sklearn.impute import SimpleImputer\n",
    "\n",
    "# Libraries to import decision tree classifier and different ensemble classifiers\n",
    "from sklearn.tree import DecisionTreeClassifier\n",
    "from sklearn.ensemble import BaggingClassifier\n",
    "from sklearn.ensemble import RandomForestClassifier\n",
    "from sklearn.ensemble import AdaBoostClassifier, GradientBoostingClassifier\n",
    "from xgboost import XGBClassifier\n",
    "from sklearn.ensemble import StackingClassifier\n",
    "from sklearn.model_selection import GridSearchCV\n",
    "\n",
    "# Libtune to tune model, get different metric scores\n",
    "from sklearn import metrics\n",
    "from sklearn.metrics import (\n",
    "    confusion_matrix,\n",
    "    plot_confusion_matrix,\n",
    "    classification_report,\n",
    "    accuracy_score,\n",
    "    precision_score,\n",
    "    recall_score,\n",
    "    f1_score,\n",
    "    roc_auc_score,\n",
    ")\n",
    "\n",
    "# supress numerical display to 2 points of precision in scientific notation\n",
    "pd.set_option(\"display.float_format\", lambda x: \"%.2f\" % x)\n",
    "\n",
    "# remove the limit from the number of displayed columns and rows, so that the entire dataframe is visible and not truncated\n",
    "pd.set_option(\"display.max_columns\", None)\n",
    "pd.set_option(\"display.max_rows\", 200)\n",
    "# pd.set_option('display.max_rows', None)from sklearn.tree import DecisionTreeClassifier # to build a classification tree"
   ]
  },
  {
   "cell_type": "code",
   "execution_count": 12,
   "id": "147fa0a0",
   "metadata": {},
   "outputs": [
    {
     "name": "stdout",
     "output_type": "stream",
     "text": [
      "Resultant CSV after joining all CSV files at a particular location...\n",
      "There are 1000 vehicle data objects and 31 attributes/features in the new wheels dataset.\n"
     ]
    },
    {
     "data": {
      "application/javascript": [
       "\n",
       "            setTimeout(function() {\n",
       "                var nbb_cell_id = 12;\n",
       "                var nbb_unformatted_code = \"# setting the path for joining mulitple files\\nfile_path = \\\"C:/Users/steve/Documents/SQL_and_Databases/SQL_Database_Modelling_and_Architecture_Final_Project/Data/\\\"\\nfiles = os.path.join(file_path, \\\"new_wheels_sales_qtr*.csv\\\")\\nfiles = glob.glob(files)\\n\\nprint(\\\"Resultant CSV after joining all CSV files at a particular location...\\\")\\n# joining files with concat and read csv\\ndf = pd.concat(map(pd.read_csv, files), ignore_index=True)\\nprint(\\n    f\\\"There are {df.shape[0]} vehicle data objects and {df.shape[1]} attributes/features in the new wheels dataset.\\\"\\n)\";\n",
       "                var nbb_formatted_code = \"# setting the path for joining mulitple files\\nfile_path = \\\"C:/Users/steve/Documents/SQL_and_Databases/SQL_Database_Modelling_and_Architecture_Final_Project/Data/\\\"\\nfiles = os.path.join(file_path, \\\"new_wheels_sales_qtr*.csv\\\")\\nfiles = glob.glob(files)\\n\\nprint(\\\"Resultant CSV after joining all CSV files at a particular location...\\\")\\n# joining files with concat and read csv\\ndf = pd.concat(map(pd.read_csv, files), ignore_index=True)\\nprint(\\n    f\\\"There are {df.shape[0]} vehicle data objects and {df.shape[1]} attributes/features in the new wheels dataset.\\\"\\n)\";\n",
       "                var nbb_cells = Jupyter.notebook.get_cells();\n",
       "                for (var i = 0; i < nbb_cells.length; ++i) {\n",
       "                    if (nbb_cells[i].input_prompt_number == nbb_cell_id) {\n",
       "                        if (nbb_cells[i].get_text() == nbb_unformatted_code) {\n",
       "                             nbb_cells[i].set_text(nbb_formatted_code);\n",
       "                        }\n",
       "                        break;\n",
       "                    }\n",
       "                }\n",
       "            }, 500);\n",
       "            "
      ],
      "text/plain": [
       "<IPython.core.display.Javascript object>"
      ]
     },
     "metadata": {},
     "output_type": "display_data"
    }
   ],
   "source": [
    "# setting the path for joining mulitple files\n",
    "file_path = \"C:/Users/steve/Documents/SQL_and_Databases/SQL_Database_Modelling_and_Architecture_Final_Project/Data/\"\n",
    "files = os.path.join(file_path, \"new_wheels_sales_qtr*.csv\")\n",
    "files = glob.glob(files)\n",
    "\n",
    "print(\"Resultant CSV after joining all CSV files at a particular location...\")\n",
    "# joining files with concat and read csv\n",
    "df = pd.concat(map(pd.read_csv, files), ignore_index=True)\n",
    "print(\n",
    "    f\"There are {df.shape[0]} vehicle data objects and {df.shape[1]} attributes/features in the new wheels dataset.\"\n",
    ")"
   ]
  },
  {
   "cell_type": "code",
   "execution_count": 13,
   "id": "8a1361a0",
   "metadata": {},
   "outputs": [
    {
     "data": {
      "text/plain": [
       "pandas.core.frame.DataFrame"
      ]
     },
     "execution_count": 13,
     "metadata": {},
     "output_type": "execute_result"
    },
    {
     "data": {
      "application/javascript": [
       "\n",
       "            setTimeout(function() {\n",
       "                var nbb_cell_id = 13;\n",
       "                var nbb_unformatted_code = \"type(df)\";\n",
       "                var nbb_formatted_code = \"type(df)\";\n",
       "                var nbb_cells = Jupyter.notebook.get_cells();\n",
       "                for (var i = 0; i < nbb_cells.length; ++i) {\n",
       "                    if (nbb_cells[i].input_prompt_number == nbb_cell_id) {\n",
       "                        if (nbb_cells[i].get_text() == nbb_unformatted_code) {\n",
       "                             nbb_cells[i].set_text(nbb_formatted_code);\n",
       "                        }\n",
       "                        break;\n",
       "                    }\n",
       "                }\n",
       "            }, 500);\n",
       "            "
      ],
      "text/plain": [
       "<IPython.core.display.Javascript object>"
      ]
     },
     "metadata": {},
     "output_type": "display_data"
    }
   ],
   "source": [
    "type(df)"
   ]
  },
  {
   "cell_type": "code",
   "execution_count": 14,
   "id": "f4e350a8",
   "metadata": {},
   "outputs": [
    {
     "data": {
      "text/plain": [
       "(1000, 31)"
      ]
     },
     "execution_count": 14,
     "metadata": {},
     "output_type": "execute_result"
    },
    {
     "data": {
      "application/javascript": [
       "\n",
       "            setTimeout(function() {\n",
       "                var nbb_cell_id = 14;\n",
       "                var nbb_unformatted_code = \"df.shape\";\n",
       "                var nbb_formatted_code = \"df.shape\";\n",
       "                var nbb_cells = Jupyter.notebook.get_cells();\n",
       "                for (var i = 0; i < nbb_cells.length; ++i) {\n",
       "                    if (nbb_cells[i].input_prompt_number == nbb_cell_id) {\n",
       "                        if (nbb_cells[i].get_text() == nbb_unformatted_code) {\n",
       "                             nbb_cells[i].set_text(nbb_formatted_code);\n",
       "                        }\n",
       "                        break;\n",
       "                    }\n",
       "                }\n",
       "            }, 500);\n",
       "            "
      ],
      "text/plain": [
       "<IPython.core.display.Javascript object>"
      ]
     },
     "metadata": {},
     "output_type": "display_data"
    }
   ],
   "source": [
    "df.shape"
   ]
  },
  {
   "cell_type": "code",
   "execution_count": 15,
   "id": "cb7538aa",
   "metadata": {},
   "outputs": [
    {
     "data": {
      "text/plain": [
       "Index(['shipper_id', 'shipper_name', 'shipper_contact_details', 'product_id',\n",
       "       'vehicle_maker', 'vehicle_model', 'vehicle_color', 'vehicle_model_year',\n",
       "       'vehicle_price', 'quantity', 'discount', 'customer_id', 'customer_name',\n",
       "       'gender', 'job_title', 'phone_number', 'email_address', 'city',\n",
       "       'country', 'state', 'customer_address', 'order_date', 'order_id',\n",
       "       'ship_date', 'ship_mode', 'shipping', 'postal_code', 'credit_card_type',\n",
       "       'credit_card_number', 'customer_feedback', 'quarter_number'],\n",
       "      dtype='object')"
      ]
     },
     "execution_count": 15,
     "metadata": {},
     "output_type": "execute_result"
    },
    {
     "data": {
      "application/javascript": [
       "\n",
       "            setTimeout(function() {\n",
       "                var nbb_cell_id = 15;\n",
       "                var nbb_unformatted_code = \"df.columns\";\n",
       "                var nbb_formatted_code = \"df.columns\";\n",
       "                var nbb_cells = Jupyter.notebook.get_cells();\n",
       "                for (var i = 0; i < nbb_cells.length; ++i) {\n",
       "                    if (nbb_cells[i].input_prompt_number == nbb_cell_id) {\n",
       "                        if (nbb_cells[i].get_text() == nbb_unformatted_code) {\n",
       "                             nbb_cells[i].set_text(nbb_formatted_code);\n",
       "                        }\n",
       "                        break;\n",
       "                    }\n",
       "                }\n",
       "            }, 500);\n",
       "            "
      ],
      "text/plain": [
       "<IPython.core.display.Javascript object>"
      ]
     },
     "metadata": {},
     "output_type": "display_data"
    }
   ],
   "source": [
    "df.columns"
   ]
  },
  {
   "cell_type": "code",
   "execution_count": 16,
   "id": "369feaad",
   "metadata": {},
   "outputs": [
    {
     "data": {
      "text/plain": [
       "object     22\n",
       "int64       6\n",
       "float64     3\n",
       "dtype: int64"
      ]
     },
     "execution_count": 16,
     "metadata": {},
     "output_type": "execute_result"
    },
    {
     "data": {
      "application/javascript": [
       "\n",
       "            setTimeout(function() {\n",
       "                var nbb_cell_id = 16;\n",
       "                var nbb_unformatted_code = \"df.dtypes.value_counts()\";\n",
       "                var nbb_formatted_code = \"df.dtypes.value_counts()\";\n",
       "                var nbb_cells = Jupyter.notebook.get_cells();\n",
       "                for (var i = 0; i < nbb_cells.length; ++i) {\n",
       "                    if (nbb_cells[i].input_prompt_number == nbb_cell_id) {\n",
       "                        if (nbb_cells[i].get_text() == nbb_unformatted_code) {\n",
       "                             nbb_cells[i].set_text(nbb_formatted_code);\n",
       "                        }\n",
       "                        break;\n",
       "                    }\n",
       "                }\n",
       "            }, 500);\n",
       "            "
      ],
      "text/plain": [
       "<IPython.core.display.Javascript object>"
      ]
     },
     "metadata": {},
     "output_type": "display_data"
    }
   ],
   "source": [
    "df.dtypes.value_counts()"
   ]
  },
  {
   "cell_type": "code",
   "execution_count": 17,
   "id": "5521e955",
   "metadata": {},
   "outputs": [
    {
     "name": "stdout",
     "output_type": "stream",
     "text": [
      "<class 'pandas.core.frame.DataFrame'>\n",
      "RangeIndex: 1000 entries, 0 to 999\n",
      "Data columns (total 31 columns):\n",
      " #   Column                   Non-Null Count  Dtype  \n",
      "---  ------                   --------------  -----  \n",
      " 0   shipper_id               1000 non-null   int64  \n",
      " 1   shipper_name             1000 non-null   object \n",
      " 2   shipper_contact_details  1000 non-null   object \n",
      " 3   product_id               1000 non-null   int64  \n",
      " 4   vehicle_maker            1000 non-null   object \n",
      " 5   vehicle_model            1000 non-null   object \n",
      " 6   vehicle_color            1000 non-null   object \n",
      " 7   vehicle_model_year       1000 non-null   int64  \n",
      " 8   vehicle_price            1000 non-null   float64\n",
      " 9   quantity                 1000 non-null   int64  \n",
      " 10  discount                 1000 non-null   float64\n",
      " 11  customer_id              1000 non-null   object \n",
      " 12  customer_name            1000 non-null   object \n",
      " 13  gender                   1000 non-null   object \n",
      " 14  job_title                1000 non-null   object \n",
      " 15  phone_number             1000 non-null   object \n",
      " 16  email_address            1000 non-null   object \n",
      " 17  city                     1000 non-null   object \n",
      " 18  country                  1000 non-null   object \n",
      " 19  state                    1000 non-null   object \n",
      " 20  customer_address         1000 non-null   object \n",
      " 21  order_date               1000 non-null   object \n",
      " 22  order_id                 1000 non-null   object \n",
      " 23  ship_date                1000 non-null   object \n",
      " 24  ship_mode                1000 non-null   object \n",
      " 25  shipping                 1000 non-null   object \n",
      " 26  postal_code              1000 non-null   int64  \n",
      " 27  credit_card_type         1000 non-null   object \n",
      " 28  credit_card_number       1000 non-null   float64\n",
      " 29  customer_feedback        1000 non-null   object \n",
      " 30  quarter_number           1000 non-null   int64  \n",
      "dtypes: float64(3), int64(6), object(22)\n",
      "memory usage: 242.3+ KB\n"
     ]
    },
    {
     "data": {
      "application/javascript": [
       "\n",
       "            setTimeout(function() {\n",
       "                var nbb_cell_id = 17;\n",
       "                var nbb_unformatted_code = \"df.info()\";\n",
       "                var nbb_formatted_code = \"df.info()\";\n",
       "                var nbb_cells = Jupyter.notebook.get_cells();\n",
       "                for (var i = 0; i < nbb_cells.length; ++i) {\n",
       "                    if (nbb_cells[i].input_prompt_number == nbb_cell_id) {\n",
       "                        if (nbb_cells[i].get_text() == nbb_unformatted_code) {\n",
       "                             nbb_cells[i].set_text(nbb_formatted_code);\n",
       "                        }\n",
       "                        break;\n",
       "                    }\n",
       "                }\n",
       "            }, 500);\n",
       "            "
      ],
      "text/plain": [
       "<IPython.core.display.Javascript object>"
      ]
     },
     "metadata": {},
     "output_type": "display_data"
    }
   ],
   "source": [
    "df.info()"
   ]
  },
  {
   "cell_type": "code",
   "execution_count": 18,
   "id": "602bb880",
   "metadata": {},
   "outputs": [
    {
     "data": {
      "text/plain": [
       "0"
      ]
     },
     "execution_count": 18,
     "metadata": {},
     "output_type": "execute_result"
    },
    {
     "data": {
      "application/javascript": [
       "\n",
       "            setTimeout(function() {\n",
       "                var nbb_cell_id = 18;\n",
       "                var nbb_unformatted_code = \"df.duplicated().sum()\";\n",
       "                var nbb_formatted_code = \"df.duplicated().sum()\";\n",
       "                var nbb_cells = Jupyter.notebook.get_cells();\n",
       "                for (var i = 0; i < nbb_cells.length; ++i) {\n",
       "                    if (nbb_cells[i].input_prompt_number == nbb_cell_id) {\n",
       "                        if (nbb_cells[i].get_text() == nbb_unformatted_code) {\n",
       "                             nbb_cells[i].set_text(nbb_formatted_code);\n",
       "                        }\n",
       "                        break;\n",
       "                    }\n",
       "                }\n",
       "            }, 500);\n",
       "            "
      ],
      "text/plain": [
       "<IPython.core.display.Javascript object>"
      ]
     },
     "metadata": {},
     "output_type": "display_data"
    }
   ],
   "source": [
    "df.duplicated().sum()"
   ]
  },
  {
   "cell_type": "code",
   "execution_count": 55,
   "id": "9f315b67",
   "metadata": {},
   "outputs": [
    {
     "data": {
      "text/plain": [
       "shipper_id                 1000\n",
       "shipper_name                362\n",
       "shipper_contact_details    1000\n",
       "product_id                 1000\n",
       "vehicle_maker                54\n",
       "vehicle_model               504\n",
       "vehicle_color                19\n",
       "vehicle_model_year           47\n",
       "vehicle_price              1000\n",
       "quantity                      2\n",
       "discount                     41\n",
       "customer_id                 994\n",
       "customer_name               994\n",
       "gender                        2\n",
       "job_title                   182\n",
       "phone_number                994\n",
       "email_address               994\n",
       "city                        299\n",
       "country                       1\n",
       "state                        49\n",
       "customer_address            994\n",
       "order_date                  222\n",
       "order_id                   1000\n",
       "ship_date                   270\n",
       "ship_mode                     4\n",
       "shipping                      2\n",
       "postal_code                 774\n",
       "credit_card_type             16\n",
       "credit_card_number          350\n",
       "customer_feedback             5\n",
       "quarter_number                4\n",
       "dtype: int64"
      ]
     },
     "execution_count": 55,
     "metadata": {},
     "output_type": "execute_result"
    },
    {
     "data": {
      "application/javascript": [
       "\n",
       "            setTimeout(function() {\n",
       "                var nbb_cell_id = 55;\n",
       "                var nbb_unformatted_code = \"df.nunique()\";\n",
       "                var nbb_formatted_code = \"df.nunique()\";\n",
       "                var nbb_cells = Jupyter.notebook.get_cells();\n",
       "                for (var i = 0; i < nbb_cells.length; ++i) {\n",
       "                    if (nbb_cells[i].input_prompt_number == nbb_cell_id) {\n",
       "                        if (nbb_cells[i].get_text() == nbb_unformatted_code) {\n",
       "                             nbb_cells[i].set_text(nbb_formatted_code);\n",
       "                        }\n",
       "                        break;\n",
       "                    }\n",
       "                }\n",
       "            }, 500);\n",
       "            "
      ],
      "text/plain": [
       "<IPython.core.display.Javascript object>"
      ]
     },
     "metadata": {},
     "output_type": "display_data"
    }
   ],
   "source": [
    "df.nunique()"
   ]
  },
  {
   "cell_type": "code",
   "execution_count": 23,
   "id": "fc09669a",
   "metadata": {},
   "outputs": [
    {
     "data": {
      "application/javascript": [
       "\n",
       "            setTimeout(function() {\n",
       "                var nbb_cell_id = 23;\n",
       "                var nbb_unformatted_code = \"# list to convert the categorical features to 'category'\\ncat_col = [\\n        \\\"shipper_id\\\",\\n        \\\"shipper_name\\\",\\n        \\\"shipper_contact_details\\\",\\n        \\\"product_id\\\",\\n        \\\"vehicle_maker\\\",\\n        \\\"vehicle_model\\\",\\n        \\\"vehicle_color\\\",\\n        \\\"vehicle_model_year\\\",\\n        \\\"customer_id\\\",\\n        \\\"customer_name\\\",\\n        \\\"gender\\\",\\n        \\\"job_title\\\",\\n        \\\"phone_number\\\",\\n        \\\"email_address\\\",\\n        \\\"city\\\",\\n        \\\"country\\\",\\n        \\\"state\\\",\\n        \\\"customer_address\\\",\\n        \\\"order_date\\\",\\n        \\\"order_id\\\",\\n        \\\"ship_date\\\",\\n        \\\"ship_mode\\\",\\n        \\\"shipping\\\",\\n        \\\"postal_code\\\",\\n        \\\"credit_card_type\\\",\\n        \\\"credit_card_number\\\",\\n        \\\"customer_feedback\\\",\\n        \\\"quarter_number\\\",\\n]\";\n",
       "                var nbb_formatted_code = \"# list to convert the categorical features to 'category'\\ncat_col = [\\n    \\\"shipper_id\\\",\\n    \\\"shipper_name\\\",\\n    \\\"shipper_contact_details\\\",\\n    \\\"product_id\\\",\\n    \\\"vehicle_maker\\\",\\n    \\\"vehicle_model\\\",\\n    \\\"vehicle_color\\\",\\n    \\\"vehicle_model_year\\\",\\n    \\\"customer_id\\\",\\n    \\\"customer_name\\\",\\n    \\\"gender\\\",\\n    \\\"job_title\\\",\\n    \\\"phone_number\\\",\\n    \\\"email_address\\\",\\n    \\\"city\\\",\\n    \\\"country\\\",\\n    \\\"state\\\",\\n    \\\"customer_address\\\",\\n    \\\"order_date\\\",\\n    \\\"order_id\\\",\\n    \\\"ship_date\\\",\\n    \\\"ship_mode\\\",\\n    \\\"shipping\\\",\\n    \\\"postal_code\\\",\\n    \\\"credit_card_type\\\",\\n    \\\"credit_card_number\\\",\\n    \\\"customer_feedback\\\",\\n    \\\"quarter_number\\\",\\n]\";\n",
       "                var nbb_cells = Jupyter.notebook.get_cells();\n",
       "                for (var i = 0; i < nbb_cells.length; ++i) {\n",
       "                    if (nbb_cells[i].input_prompt_number == nbb_cell_id) {\n",
       "                        if (nbb_cells[i].get_text() == nbb_unformatted_code) {\n",
       "                             nbb_cells[i].set_text(nbb_formatted_code);\n",
       "                        }\n",
       "                        break;\n",
       "                    }\n",
       "                }\n",
       "            }, 500);\n",
       "            "
      ],
      "text/plain": [
       "<IPython.core.display.Javascript object>"
      ]
     },
     "metadata": {},
     "output_type": "display_data"
    }
   ],
   "source": [
    "# list to convert the categorical features to 'category'\n",
    "cat_col = [\n",
    "    \"shipper_id\",\n",
    "    \"shipper_name\",\n",
    "    \"shipper_contact_details\",\n",
    "    \"product_id\",\n",
    "    \"vehicle_maker\",\n",
    "    \"vehicle_model\",\n",
    "    \"vehicle_color\",\n",
    "    \"vehicle_model_year\",\n",
    "    \"customer_id\",\n",
    "    \"customer_name\",\n",
    "    \"gender\",\n",
    "    \"job_title\",\n",
    "    \"phone_number\",\n",
    "    \"email_address\",\n",
    "    \"city\",\n",
    "    \"country\",\n",
    "    \"state\",\n",
    "    \"customer_address\",\n",
    "    \"order_date\",\n",
    "    \"order_id\",\n",
    "    \"ship_date\",\n",
    "    \"ship_mode\",\n",
    "    \"shipping\",\n",
    "    \"postal_code\",\n",
    "    \"credit_card_type\",\n",
    "    \"credit_card_number\",\n",
    "    \"customer_feedback\",\n",
    "    \"quarter_number\",\n",
    "]"
   ]
  },
  {
   "cell_type": "code",
   "execution_count": 25,
   "id": "2e05eaf0",
   "metadata": {},
   "outputs": [
    {
     "name": "stdout",
     "output_type": "stream",
     "text": [
      "1617    1\n",
      "2585    1\n",
      "2088    1\n",
      "3509    1\n",
      "2792    1\n",
      "       ..\n",
      "2804    1\n",
      "2782    1\n",
      "2783    1\n",
      "1103    1\n",
      "3813    1\n",
      "Name: shipper_id, Length: 1000, dtype: int64\n"
     ]
    },
    {
     "data": {
      "text/plain": [
       "'--------------------------------------------------'"
      ]
     },
     "metadata": {},
     "output_type": "display_data"
    },
    {
     "name": "stdout",
     "output_type": "stream",
     "text": [
      "Kazu           8\n",
      "Feedbug        7\n",
      "Quatz          7\n",
      "Jayo           7\n",
      "Innotype       7\n",
      "              ..\n",
      "Browsezoom     1\n",
      "Fiveclub       1\n",
      "Shufflebeat    1\n",
      "DabZ           1\n",
      "Dabjam         1\n",
      "Name: shipper_name, Length: 362, dtype: int64\n"
     ]
    },
    {
     "data": {
      "text/plain": [
       "'--------------------------------------------------'"
      ]
     },
     "metadata": {},
     "output_type": "display_data"
    },
    {
     "name": "stdout",
     "output_type": "stream",
     "text": [
      "125-29-5865    1\n",
      "280-59-1168    1\n",
      "193-66-4084    1\n",
      "545-33-6916    1\n",
      "562-17-2875    1\n",
      "              ..\n",
      "311-27-8922    1\n",
      "795-17-6148    1\n",
      "839-41-5843    1\n",
      "214-73-6591    1\n",
      "438-17-7753    1\n",
      "Name: shipper_contact_details, Length: 1000, dtype: int64\n"
     ]
    },
    {
     "data": {
      "text/plain": [
       "'--------------------------------------------------'"
      ]
     },
     "metadata": {},
     "output_type": "display_data"
    },
    {
     "name": "stdout",
     "output_type": "stream",
     "text": [
      "4383    1\n",
      "4764    1\n",
      "4728    1\n",
      "4792    1\n",
      "3976    1\n",
      "       ..\n",
      "4985    1\n",
      "4368    1\n",
      "4149    1\n",
      "3760    1\n",
      "4288    1\n",
      "Name: product_id, Length: 1000, dtype: int64\n"
     ]
    },
    {
     "data": {
      "text/plain": [
       "'--------------------------------------------------'"
      ]
     },
     "metadata": {},
     "output_type": "display_data"
    },
    {
     "name": "stdout",
     "output_type": "stream",
     "text": [
      "Chevrolet        83\n",
      "Ford             63\n",
      "Toyota           52\n",
      "Dodge            50\n",
      "Pontiac          50\n",
      "Mercedes-Benz    45\n",
      "Mazda            43\n",
      "Mitsubishi       41\n",
      "Buick            40\n",
      "GMC              37\n",
      "Volkswagen       35\n",
      "Nissan           31\n",
      "BMW              28\n",
      "Volvo            26\n",
      "Audi             25\n",
      "Subaru           22\n",
      "Suzuki           22\n",
      "Honda            19\n",
      "Lexus            18\n",
      "Isuzu            18\n",
      "Cadillac         18\n",
      "Kia              16\n",
      "Lincoln          16\n",
      "Infiniti         16\n",
      "Mercury          15\n",
      "Chrysler         14\n",
      "Hyundai          14\n",
      "Jaguar           13\n",
      "Oldsmobile       12\n",
      "Saab             11\n",
      "Acura            11\n",
      "Jeep             11\n",
      "Land Rover       10\n",
      "Plymouth          8\n",
      "Lamborghini       8\n",
      "Porsche           7\n",
      "Maserati          6\n",
      "Bentley           6\n",
      "Ferrari           6\n",
      "Lotus             4\n",
      "Geo               4\n",
      "Eagle             4\n",
      "Scion             3\n",
      "Morgan            3\n",
      "Maybach           3\n",
      "Aston Martin      2\n",
      "Rolls-Royce       2\n",
      "MINI              2\n",
      "Saturn            2\n",
      "Ram               1\n",
      "MG                1\n",
      "Daewoo            1\n",
      "Austin            1\n",
      "Citro�n           1\n",
      "Name: vehicle_maker, dtype: int64\n"
     ]
    },
    {
     "data": {
      "text/plain": [
       "'--------------------------------------------------'"
      ]
     },
     "metadata": {},
     "output_type": "display_data"
    },
    {
     "name": "stdout",
     "output_type": "stream",
     "text": [
      "Grand Prix       9\n",
      "Century          9\n",
      "Camaro           9\n",
      "C70              8\n",
      "Suburban 1500    8\n",
      "                ..\n",
      "Viper RT/10      1\n",
      "STS              1\n",
      "CTS-V            1\n",
      "M                1\n",
      "Prowler          1\n",
      "Name: vehicle_model, Length: 504, dtype: int64\n"
     ]
    },
    {
     "data": {
      "text/plain": [
       "'--------------------------------------------------'"
      ]
     },
     "metadata": {},
     "output_type": "display_data"
    },
    {
     "name": "stdout",
     "output_type": "stream",
     "text": [
      "Yellow        63\n",
      "Goldenrod     59\n",
      "Turquoise     59\n",
      "Purple        58\n",
      "Khaki         57\n",
      "Red           57\n",
      "Blue          57\n",
      "Indigo        55\n",
      "Aquamarine    55\n",
      "Crimson       52\n",
      "Pink          52\n",
      "Puce          51\n",
      "Violet        48\n",
      "Mauv          48\n",
      "Green         48\n",
      "Maroon        47\n",
      "Fuscia        46\n",
      "Orange        45\n",
      "Teal          43\n",
      "Name: vehicle_color, dtype: int64\n"
     ]
    },
    {
     "data": {
      "text/plain": [
       "'--------------------------------------------------'"
      ]
     },
     "metadata": {},
     "output_type": "display_data"
    },
    {
     "name": "stdout",
     "output_type": "stream",
     "text": [
      "2009    64\n",
      "2007    56\n",
      "2004    49\n",
      "2011    48\n",
      "2010    45\n",
      "2012    45\n",
      "2008    43\n",
      "2006    43\n",
      "2002    42\n",
      "1996    40\n",
      "1999    39\n",
      "1993    38\n",
      "1997    37\n",
      "2005    36\n",
      "2003    36\n",
      "1994    35\n",
      "2000    29\n",
      "1992    29\n",
      "2001    28\n",
      "1995    27\n",
      "1998    26\n",
      "1985    22\n",
      "1990    21\n",
      "1989    19\n",
      "1987    16\n",
      "1991    16\n",
      "1988    13\n",
      "2013    11\n",
      "1986    10\n",
      "1984     9\n",
      "1970     3\n",
      "1977     3\n",
      "1969     3\n",
      "1967     3\n",
      "1962     2\n",
      "1964     2\n",
      "1983     2\n",
      "1965     1\n",
      "1980     1\n",
      "1968     1\n",
      "1971     1\n",
      "1953     1\n",
      "1978     1\n",
      "1979     1\n",
      "1981     1\n",
      "1976     1\n",
      "1982     1\n",
      "Name: vehicle_model_year, dtype: int64\n"
     ]
    },
    {
     "data": {
      "text/plain": [
       "'--------------------------------------------------'"
      ]
     },
     "metadata": {},
     "output_type": "display_data"
    },
    {
     "name": "stdout",
     "output_type": "stream",
     "text": [
      "36987-3061    2\n",
      "53603-1006    2\n",
      "76237-153     2\n",
      "43269-780     2\n",
      "47593-359     2\n",
      "             ..\n",
      "0781-5613     1\n",
      "15127-311     1\n",
      "15127-831     1\n",
      "52125-338     1\n",
      "49283-511     1\n",
      "Name: customer_id, Length: 994, dtype: int64\n"
     ]
    },
    {
     "data": {
      "text/plain": [
       "'--------------------------------------------------'"
      ]
     },
     "metadata": {},
     "output_type": "display_data"
    },
    {
     "name": "stdout",
     "output_type": "stream",
     "text": [
      "Standford Goodhall       2\n",
      "Gonzales Shoard          2\n",
      "Cindy Gertray            2\n",
      "Armstrong Cripin         2\n",
      "Laurette Carn            2\n",
      "                        ..\n",
      "Gerry Yitzhakov          1\n",
      "Allan Lipgens            1\n",
      "Gwendolyn MacConneely    1\n",
      "Creight Munnery          1\n",
      "Reba Sillis              1\n",
      "Name: customer_name, Length: 994, dtype: int64\n"
     ]
    },
    {
     "data": {
      "text/plain": [
       "'--------------------------------------------------'"
      ]
     },
     "metadata": {},
     "output_type": "display_data"
    },
    {
     "name": "stdout",
     "output_type": "stream",
     "text": [
      "Female    501\n",
      "Male      499\n",
      "Name: gender, dtype: int64\n"
     ]
    },
    {
     "data": {
      "text/plain": [
       "'--------------------------------------------------'"
      ]
     },
     "metadata": {},
     "output_type": "display_data"
    },
    {
     "name": "stdout",
     "output_type": "stream",
     "text": [
      "Cost Accountant                         15\n",
      "Compensation Analyst                    15\n",
      "Project Manager                         15\n",
      "VP Accounting                           14\n",
      "GIS Technical Architect                 14\n",
      "Senior Editor                           14\n",
      "Business Systems Development Analyst    13\n",
      "Payment Adjustment Coordinator          13\n",
      "Analyst Programmer                      12\n",
      "Recruiter                               12\n",
      "Information Systems Manager             12\n",
      "Teacher                                 12\n",
      "Research Associate                      12\n",
      "Internal Auditor                        11\n",
      "Assistant Media Planner                 11\n",
      "Associate Professor                     11\n",
      "Dental Hygienist                        11\n",
      "Structural Analysis Engineer            11\n",
      "Tax Accountant                          10\n",
      "Director of Sales                       10\n",
      "Financial Advisor                       10\n",
      "Graphic Designer                        10\n",
      "Recruiting Manager                      10\n",
      "Sales Associate                         10\n",
      "Chief Design Engineer                   10\n",
      "Assistant Manager                       10\n",
      "Junior Executive                        10\n",
      "Geological Engineer                     10\n",
      "Chemical Engineer                       10\n",
      "Financial Analyst                       10\n",
      "Software Consultant                     10\n",
      "Editor                                   9\n",
      "Civil Engineer                           9\n",
      "Speech Pathologist                       9\n",
      "Account Coordinator                      9\n",
      "Executive Secretary                      9\n",
      "Senior Developer                         9\n",
      "Actuary                                  9\n",
      "Food Chemist                             9\n",
      "Human Resources Manager                  9\n",
      "Physical Therapy Assistant               9\n",
      "Staff Scientist                          9\n",
      "Quality Engineer                         9\n",
      "Structural Engineer                      9\n",
      "Clinical Specialist                      8\n",
      "Environmental Specialist                 8\n",
      "Senior Financial Analyst                 8\n",
      "VP Marketing                             8\n",
      "Senior Cost Accountant                   8\n",
      "Design Engineer                          8\n",
      "Administrative Officer                   8\n",
      "VP Sales                                 8\n",
      "Mechanical Systems Engineer              8\n",
      "Professor                                8\n",
      "VP Product Management                    7\n",
      "Operator                                 7\n",
      "Marketing Assistant                      7\n",
      "Product Engineer                         7\n",
      "Pharmacist                               7\n",
      "Occupational Therapist                   7\n",
      "Registered Nurse                         7\n",
      "Legal Assistant                          7\n",
      "Web Designer IV                          7\n",
      "Desktop Support Technician               7\n",
      "Research Nurse                           7\n",
      "Paralegal                                6\n",
      "Technical Writer                         6\n",
      "VP Quality Control                       6\n",
      "Assistant Professor                      6\n",
      "Nuclear Power Engineer                   6\n",
      "Help Desk Technician                     6\n",
      "Account Executive                        6\n",
      "Safety Technician IV                     6\n",
      "Developer IV                             6\n",
      "Environmental Tech                       6\n",
      "Data Coordiator                          6\n",
      "Nurse Practicioner                       5\n",
      "Social Worker                            5\n",
      "Budget/Accounting Analyst I              5\n",
      "Senior Quality Engineer                  5\n",
      "Geologist II                             5\n",
      "Database Administrator III               5\n",
      "Community Outreach Specialist            5\n",
      "Automation Specialist IV                 5\n",
      "Budget/Accounting Analyst IV             5\n",
      "Account Representative I                 5\n",
      "Database Administrator IV                5\n",
      "Analog Circuit Design manager            5\n",
      "Web Developer II                         5\n",
      "Librarian                                5\n",
      "Help Desk Operator                       5\n",
      "Account Representative II                5\n",
      "Programmer Analyst IV                    4\n",
      "Accountant II                            4\n",
      "Programmer I                             4\n",
      "Electrical Engineer                      4\n",
      "Geologist I                              4\n",
      "Nurse                                    4\n",
      "Senior Sales Associate                   4\n",
      "Sales Representative                     4\n",
      "Marketing Manager                        4\n",
      "Engineer IV                              4\n",
      "Media Manager III                        4\n",
      "Biostatistician II                       4\n",
      "General Manager                          4\n",
      "Web Designer III                         4\n",
      "Media Manager II                         4\n",
      "Account Representative III               4\n",
      "Accountant IV                            4\n",
      "Accounting Assistant II                  4\n",
      "Quality Control Specialist               3\n",
      "Staff Accountant I                       3\n",
      "Web Designer I                           3\n",
      "Computer Systems Analyst I               3\n",
      "Computer Systems Analyst III             3\n",
      "Accountant I                             3\n",
      "Programmer Analyst III                   3\n",
      "Human Resources Assistant IV             3\n",
      "Systems Administrator III                3\n",
      "Budget/Accounting Analyst III            3\n",
      "Human Resources Assistant I              3\n",
      "Systems Administrator I                  3\n",
      "Engineer III                             3\n",
      "Database Administrator II                3\n",
      "Computer Systems Analyst II              3\n",
      "Accounting Assistant IV                  3\n",
      "Biostatistician IV                       3\n",
      "Staff Accountant III                     3\n",
      "Statistician IV                          3\n",
      "Administrative Assistant III             3\n",
      "Research Assistant I                     3\n",
      "Office Assistant I                       3\n",
      "Software Engineer III                    3\n",
      "Software Engineer I                      3\n",
      "Programmer II                            2\n",
      "Geologist IV                             2\n",
      "Programmer Analyst II                    2\n",
      "Biostatistician III                      2\n",
      "Office Assistant IV                      2\n",
      "Media Manager IV                         2\n",
      "Accounting Assistant I                   2\n",
      "Account Representative IV                2\n",
      "Staff Accountant IV                      2\n",
      "Administrative Assistant II              2\n",
      "Research Assistant IV                    2\n",
      "Software Test Engineer IV                2\n",
      "Automation Specialist I                  2\n",
      "Programmer IV                            2\n",
      "Accountant III                           2\n",
      "Office Assistant II                      2\n",
      "Systems Administrator IV                 2\n",
      "Safety Technician I                      2\n",
      "Web Developer III                        2\n",
      "Statistician III                         2\n",
      "Research Assistant II                    2\n",
      "Developer I                              2\n",
      "Web Designer II                          2\n",
      "Administrative Assistant IV              2\n",
      "Safety Technician II                     2\n",
      "Health Coach II                          2\n",
      "Web Developer IV                         2\n",
      "Engineer I                               2\n",
      "Software Test Engineer II                2\n",
      "Statistician I                           2\n",
      "Programmer III                           1\n",
      "Programmer Analyst I                     1\n",
      "Biostatistician I                        1\n",
      "Health Coach III                         1\n",
      "Office Assistant III                     1\n",
      "Research Assistant III                   1\n",
      "Geologist III                            1\n",
      "Automation Specialist II                 1\n",
      "Engineer II                              1\n",
      "Systems Administrator II                 1\n",
      "Automation Specialist III                1\n",
      "Human Resources Assistant II             1\n",
      "Software Engineer IV                     1\n",
      "Database Administrator I                 1\n",
      "Statistician II                          1\n",
      "Software Test Engineer III               1\n",
      "Computer Systems Analyst IV              1\n",
      "Health Coach I                           1\n",
      "Name: job_title, dtype: int64\n"
     ]
    },
    {
     "data": {
      "text/plain": [
       "'--------------------------------------------------'"
      ]
     },
     "metadata": {},
     "output_type": "display_data"
    },
    {
     "name": "stdout",
     "output_type": "stream",
     "text": [
      "240-408-7636    2\n",
      "915-824-4121    2\n",
      "404-979-2302    2\n",
      "574-485-6534    2\n",
      "334-396-2155    2\n",
      "               ..\n",
      "510-191-3865    1\n",
      "305-741-4255    1\n",
      "702-863-4129    1\n",
      "505-775-7780    1\n",
      "718-835-5749    1\n",
      "Name: phone_number, Length: 994, dtype: int64\n"
     ]
    },
    {
     "data": {
      "text/plain": [
       "'--------------------------------------------------'"
      ]
     },
     "metadata": {},
     "output_type": "display_data"
    },
    {
     "name": "stdout",
     "output_type": "stream",
     "text": [
      "sgoodhallfz@mozilla.com        2\n",
      "gshoard4v@example.com          2\n",
      "cgertray6n@mapy.cz             2\n",
      "acripin4u@loc.gov              2\n",
      "lcarn7b@upenn.edu              2\n",
      "                              ..\n",
      "gyitzhakovau@craigslist.org    1\n",
      "alipgens5a@goodreads.com       1\n",
      "gmacconneely61@imgur.com       1\n",
      "cmunneryl4@meetup.com          1\n",
      "rsillisbb@nbcnews.com          1\n",
      "Name: email_address, Length: 994, dtype: int64\n"
     ]
    },
    {
     "data": {
      "text/plain": [
       "'--------------------------------------------------'"
      ]
     },
     "metadata": {},
     "output_type": "display_data"
    },
    {
     "name": "stdout",
     "output_type": "stream",
     "text": [
      "Washington         35\n",
      "New York City      27\n",
      "El Paso            19\n",
      "Houston            14\n",
      "San Antonio        14\n",
      "                   ..\n",
      "Hollywood           1\n",
      "Jersey City         1\n",
      "North Hollywood     1\n",
      "Youngstown          1\n",
      "Newton              1\n",
      "Name: city, Length: 299, dtype: int64\n"
     ]
    },
    {
     "data": {
      "text/plain": [
       "'--------------------------------------------------'"
      ]
     },
     "metadata": {},
     "output_type": "display_data"
    },
    {
     "name": "stdout",
     "output_type": "stream",
     "text": [
      "United States    1000\n",
      "Name: country, dtype: int64\n"
     ]
    },
    {
     "data": {
      "text/plain": [
       "'--------------------------------------------------'"
      ]
     },
     "metadata": {},
     "output_type": "display_data"
    },
    {
     "name": "stdout",
     "output_type": "stream",
     "text": [
      "Texas                   98\n",
      "California              97\n",
      "Florida                 86\n",
      "New York                69\n",
      "District of Columbia    35\n",
      "Ohio                    33\n",
      "Colorado                33\n",
      "Alabama                 30\n",
      "Washington              28\n",
      "Arizona                 26\n",
      "Illinois                25\n",
      "Pennsylvania            25\n",
      "Virginia                24\n",
      "Tennessee               23\n",
      "Indiana                 23\n",
      "Missouri                23\n",
      "Connecticut             22\n",
      "Louisiana               20\n",
      "North Carolina          20\n",
      "Georgia                 19\n",
      "Michigan                17\n",
      "Minnesota               17\n",
      "Nevada                  17\n",
      "Oklahoma                16\n",
      "Maryland                15\n",
      "Massachusetts           14\n",
      "Kansas                  13\n",
      "Iowa                    11\n",
      "Alaska                  10\n",
      "Utah                    10\n",
      "West Virginia           10\n",
      "New Jersey               9\n",
      "South Carolina           9\n",
      "Kentucky                 8\n",
      "Wisconsin                8\n",
      "Nebraska                 7\n",
      "Oregon                   7\n",
      "Idaho                    7\n",
      "Delaware                 6\n",
      "Hawaii                   6\n",
      "Arkansas                 6\n",
      "New Mexico               5\n",
      "New Hampshire            3\n",
      "Montana                  3\n",
      "North Dakota             2\n",
      "Mississippi              2\n",
      "Vermont                  1\n",
      "Wyoming                  1\n",
      "Maine                    1\n",
      "Name: state, dtype: int64\n"
     ]
    },
    {
     "data": {
      "text/plain": [
       "'--------------------------------------------------'"
      ]
     },
     "metadata": {},
     "output_type": "display_data"
    },
    {
     "name": "stdout",
     "output_type": "stream",
     "text": [
      "55189 Thackeray Parkway     2\n",
      "6 Anthes Avenue             2\n",
      "01044 Dayton Center         2\n",
      "08365 Pepper Wood Center    2\n",
      "93 Loomis Lane              2\n",
      "                           ..\n",
      "602 Lien Crossing           1\n",
      "280 Del Mar Street          1\n",
      "806 Fordem Terrace          1\n",
      "3448 Merry Terrace          1\n",
      "8521 Sundown Road           1\n",
      "Name: customer_address, Length: 994, dtype: int64\n"
     ]
    },
    {
     "data": {
      "text/plain": [
       "'--------------------------------------------------'"
      ]
     },
     "metadata": {},
     "output_type": "display_data"
    },
    {
     "name": "stdout",
     "output_type": "stream",
     "text": [
      "2018-04-04    25\n",
      "2018-04-06    24\n",
      "2018-04-05    24\n",
      "2018-11-10    18\n",
      "2018-11-11    17\n",
      "              ..\n",
      "2018-08-15     1\n",
      "2018-06-06     1\n",
      "2018-08-17     1\n",
      "2018-05-28     1\n",
      "2018-08-22     1\n",
      "Name: order_date, Length: 222, dtype: int64\n"
     ]
    },
    {
     "data": {
      "text/plain": [
       "'--------------------------------------------------'"
      ]
     },
     "metadata": {},
     "output_type": "display_data"
    },
    {
     "name": "stdout",
     "output_type": "stream",
     "text": [
      "10237-833     1\n",
      "40085-215     1\n",
      "67938-0942    1\n",
      "50268-453     1\n",
      "55154-3226    1\n",
      "             ..\n",
      "51444-002     1\n",
      "58790-301     1\n",
      "59746-216     1\n",
      "60760-687     1\n",
      "51393-6778    1\n",
      "Name: order_id, Length: 1000, dtype: int64\n"
     ]
    },
    {
     "data": {
      "text/plain": [
       "'--------------------------------------------------'"
      ]
     },
     "metadata": {},
     "output_type": "display_data"
    },
    {
     "name": "stdout",
     "output_type": "stream",
     "text": [
      "2018-05-05    22\n",
      "2018-04-05    18\n",
      "2019-12-09    15\n",
      "2018-05-03    14\n",
      "2018-05-31    12\n",
      "              ..\n",
      "2018-09-26     1\n",
      "2018-03-18     1\n",
      "2018-09-21     1\n",
      "2018-04-22     1\n",
      "2018-03-05     1\n",
      "Name: ship_date, Length: 270, dtype: int64\n"
     ]
    },
    {
     "data": {
      "text/plain": [
       "'--------------------------------------------------'"
      ]
     },
     "metadata": {},
     "output_type": "display_data"
    },
    {
     "name": "stdout",
     "output_type": "stream",
     "text": [
      "Second Class      254\n",
      "Standard Class    253\n",
      "First Class       250\n",
      "Same Day          243\n",
      "Name: ship_mode, dtype: int64\n"
     ]
    },
    {
     "data": {
      "text/plain": [
       "'--------------------------------------------------'"
      ]
     },
     "metadata": {},
     "output_type": "display_data"
    },
    {
     "name": "stdout",
     "output_type": "stream",
     "text": [
      "Air      509\n",
      "Truck    491\n",
      "Name: shipping, dtype: int64\n"
     ]
    },
    {
     "data": {
      "text/plain": [
       "'--------------------------------------------------'"
      ]
     },
     "metadata": {},
     "output_type": "display_data"
    },
    {
     "name": "stdout",
     "output_type": "stream",
     "text": [
      "35905    4\n",
      "6160     4\n",
      "89105    4\n",
      "14269    4\n",
      "92505    4\n",
      "        ..\n",
      "32610    1\n",
      "99210    1\n",
      "11431    1\n",
      "93407    1\n",
      "35815    1\n",
      "Name: postal_code, Length: 774, dtype: int64\n"
     ]
    },
    {
     "data": {
      "text/plain": [
       "'--------------------------------------------------'"
      ]
     },
     "metadata": {},
     "output_type": "display_data"
    },
    {
     "name": "stdout",
     "output_type": "stream",
     "text": [
      "jcb                          424\n",
      "mastercard                    80\n",
      "maestro                       64\n",
      "visa-electron                 49\n",
      "americanexpress               49\n",
      "diners-club-carte-blanche     49\n",
      "diners-club-enroute           48\n",
      "china-unionpay                46\n",
      "bankcard                      44\n",
      "switch                        43\n",
      "visa                          36\n",
      "laser                         26\n",
      "instapayment                  16\n",
      "diners-club-us-ca             13\n",
      "solo                           8\n",
      "diners-club-international      5\n",
      "Name: credit_card_type, dtype: int64\n"
     ]
    },
    {
     "data": {
      "text/plain": [
       "'--------------------------------------------------'"
      ]
     },
     "metadata": {},
     "output_type": "display_data"
    },
    {
     "name": "stdout",
     "output_type": "stream",
     "text": [
      "1860000000000000.00    8\n",
      "2820000000000000.00    8\n",
      "2140000000000000.00    8\n",
      "4660000000000000.00    7\n",
      "2390000000000000.00    7\n",
      "                      ..\n",
      "1900000000000000.00    1\n",
      "4930000000000000.00    1\n",
      "1530000000000000.00    1\n",
      "2490000000000000.00    1\n",
      "4940000000000000.00    1\n",
      "Name: credit_card_number, Length: 350, dtype: int64\n"
     ]
    },
    {
     "data": {
      "text/plain": [
       "'--------------------------------------------------'"
      ]
     },
     "metadata": {},
     "output_type": "display_data"
    },
    {
     "name": "stdout",
     "output_type": "stream",
     "text": [
      "Very Good    226\n",
      "Good         215\n",
      "Okay         202\n",
      "Bad          182\n",
      "Very Bad     175\n",
      "Name: customer_feedback, dtype: int64\n"
     ]
    },
    {
     "data": {
      "text/plain": [
       "'--------------------------------------------------'"
      ]
     },
     "metadata": {},
     "output_type": "display_data"
    },
    {
     "name": "stdout",
     "output_type": "stream",
     "text": [
      "1    310\n",
      "2    262\n",
      "3    229\n",
      "4    199\n",
      "Name: quarter_number, dtype: int64\n"
     ]
    },
    {
     "data": {
      "text/plain": [
       "'--------------------------------------------------'"
      ]
     },
     "metadata": {},
     "output_type": "display_data"
    },
    {
     "data": {
      "application/javascript": [
       "\n",
       "            setTimeout(function() {\n",
       "                var nbb_cell_id = 25;\n",
       "                var nbb_unformatted_code = \"# Printing number of count of each unique value in each column\\nfor column in cat_col:\\n    print(df[column].value_counts())\\n    display(\\\"-\\\" * 50)\";\n",
       "                var nbb_formatted_code = \"# Printing number of count of each unique value in each column\\nfor column in cat_col:\\n    print(df[column].value_counts())\\n    display(\\\"-\\\" * 50)\";\n",
       "                var nbb_cells = Jupyter.notebook.get_cells();\n",
       "                for (var i = 0; i < nbb_cells.length; ++i) {\n",
       "                    if (nbb_cells[i].input_prompt_number == nbb_cell_id) {\n",
       "                        if (nbb_cells[i].get_text() == nbb_unformatted_code) {\n",
       "                             nbb_cells[i].set_text(nbb_formatted_code);\n",
       "                        }\n",
       "                        break;\n",
       "                    }\n",
       "                }\n",
       "            }, 500);\n",
       "            "
      ],
      "text/plain": [
       "<IPython.core.display.Javascript object>"
      ]
     },
     "metadata": {},
     "output_type": "display_data"
    }
   ],
   "source": [
    "# Printing number of count of each unique value in each column\n",
    "for column in cat_col:\n",
    "    print(df[column].value_counts())\n",
    "    display(\"-\" * 50)"
   ]
  },
  {
   "cell_type": "code",
   "execution_count": 26,
   "id": "c9bbfc0d",
   "metadata": {},
   "outputs": [
    {
     "name": "stdout",
     "output_type": "stream",
     "text": [
      "shipper_id                 False\n",
      "shipper_name               False\n",
      "shipper_contact_details    False\n",
      "product_id                 False\n",
      "vehicle_maker              False\n",
      "vehicle_model              False\n",
      "vehicle_color              False\n",
      "vehicle_model_year         False\n",
      "vehicle_price              False\n",
      "quantity                   False\n",
      "discount                   False\n",
      "customer_id                False\n",
      "customer_name              False\n",
      "gender                     False\n",
      "job_title                  False\n",
      "phone_number               False\n",
      "email_address              False\n",
      "city                       False\n",
      "country                    False\n",
      "state                      False\n",
      "customer_address           False\n",
      "order_date                 False\n",
      "order_id                   False\n",
      "ship_date                  False\n",
      "ship_mode                  False\n",
      "shipping                   False\n",
      "postal_code                False\n",
      "credit_card_type           False\n",
      "credit_card_number         False\n",
      "customer_feedback          False\n",
      "quarter_number             False\n",
      "dtype: bool\n",
      "\n",
      "\n",
      "Number of total missing values:  0\n"
     ]
    },
    {
     "data": {
      "application/javascript": [
       "\n",
       "            setTimeout(function() {\n",
       "                var nbb_cell_id = 26;\n",
       "                var nbb_unformatted_code = \"# print true or false for features with missing values\\nprint(df.isnull().any())\\n# print the numeric total of all missing values\\nprint(\\\"\\\\n\\\")\\nprint(\\\"Number of total missing values: \\\", df.isnull().sum().sum())\";\n",
       "                var nbb_formatted_code = \"# print true or false for features with missing values\\nprint(df.isnull().any())\\n# print the numeric total of all missing values\\nprint(\\\"\\\\n\\\")\\nprint(\\\"Number of total missing values: \\\", df.isnull().sum().sum())\";\n",
       "                var nbb_cells = Jupyter.notebook.get_cells();\n",
       "                for (var i = 0; i < nbb_cells.length; ++i) {\n",
       "                    if (nbb_cells[i].input_prompt_number == nbb_cell_id) {\n",
       "                        if (nbb_cells[i].get_text() == nbb_unformatted_code) {\n",
       "                             nbb_cells[i].set_text(nbb_formatted_code);\n",
       "                        }\n",
       "                        break;\n",
       "                    }\n",
       "                }\n",
       "            }, 500);\n",
       "            "
      ],
      "text/plain": [
       "<IPython.core.display.Javascript object>"
      ]
     },
     "metadata": {},
     "output_type": "display_data"
    }
   ],
   "source": [
    "# print true or false for features with missing values\n",
    "print(df.isnull().any())\n",
    "# print the numeric total of all missing values\n",
    "print(\"\\n\")\n",
    "print(\"Number of total missing values: \", df.isnull().sum().sum())"
   ]
  },
  {
   "cell_type": "code",
   "execution_count": 27,
   "id": "c7585bf2",
   "metadata": {},
   "outputs": [
    {
     "data": {
      "text/html": [
       "<div>\n",
       "<style scoped>\n",
       "    .dataframe tbody tr th:only-of-type {\n",
       "        vertical-align: middle;\n",
       "    }\n",
       "\n",
       "    .dataframe tbody tr th {\n",
       "        vertical-align: top;\n",
       "    }\n",
       "\n",
       "    .dataframe thead th {\n",
       "        text-align: right;\n",
       "    }\n",
       "</style>\n",
       "<table border=\"1\" class=\"dataframe\">\n",
       "  <thead>\n",
       "    <tr style=\"text-align: right;\">\n",
       "      <th></th>\n",
       "      <th>shipper_id</th>\n",
       "      <th>shipper_name</th>\n",
       "      <th>shipper_contact_details</th>\n",
       "      <th>product_id</th>\n",
       "      <th>vehicle_maker</th>\n",
       "      <th>vehicle_model</th>\n",
       "      <th>vehicle_color</th>\n",
       "      <th>vehicle_model_year</th>\n",
       "      <th>vehicle_price</th>\n",
       "      <th>quantity</th>\n",
       "      <th>discount</th>\n",
       "      <th>customer_id</th>\n",
       "      <th>customer_name</th>\n",
       "      <th>gender</th>\n",
       "      <th>job_title</th>\n",
       "      <th>phone_number</th>\n",
       "      <th>email_address</th>\n",
       "      <th>city</th>\n",
       "      <th>country</th>\n",
       "      <th>state</th>\n",
       "      <th>customer_address</th>\n",
       "      <th>order_date</th>\n",
       "      <th>order_id</th>\n",
       "      <th>ship_date</th>\n",
       "      <th>ship_mode</th>\n",
       "      <th>shipping</th>\n",
       "      <th>postal_code</th>\n",
       "      <th>credit_card_type</th>\n",
       "      <th>credit_card_number</th>\n",
       "      <th>customer_feedback</th>\n",
       "      <th>quarter_number</th>\n",
       "    </tr>\n",
       "  </thead>\n",
       "  <tbody>\n",
       "    <tr>\n",
       "      <th>0</th>\n",
       "      <td>1617</td>\n",
       "      <td>Feedmix</td>\n",
       "      <td>125-29-5865</td>\n",
       "      <td>4383</td>\n",
       "      <td>Jaguar</td>\n",
       "      <td>XJ Series</td>\n",
       "      <td>Indigo</td>\n",
       "      <td>2003</td>\n",
       "      <td>92186.18</td>\n",
       "      <td>1</td>\n",
       "      <td>0.60</td>\n",
       "      <td>55154-1385</td>\n",
       "      <td>Reece Pummell</td>\n",
       "      <td>Male</td>\n",
       "      <td>Design Engineer</td>\n",
       "      <td>864-849-1464</td>\n",
       "      <td>rpummelllf@hhs.gov</td>\n",
       "      <td>Greenville</td>\n",
       "      <td>United States</td>\n",
       "      <td>South Carolina</td>\n",
       "      <td>056 High Crossing Lane</td>\n",
       "      <td>2018-01-01</td>\n",
       "      <td>10237-833</td>\n",
       "      <td>2018-03-04</td>\n",
       "      <td>First Class</td>\n",
       "      <td>Air</td>\n",
       "      <td>29615</td>\n",
       "      <td>jcb</td>\n",
       "      <td>4780000000000000.00</td>\n",
       "      <td>Bad</td>\n",
       "      <td>1</td>\n",
       "    </tr>\n",
       "    <tr>\n",
       "      <th>1</th>\n",
       "      <td>3199</td>\n",
       "      <td>Oyoloo</td>\n",
       "      <td>850-05-1383</td>\n",
       "      <td>3513</td>\n",
       "      <td>Mercury</td>\n",
       "      <td>Monterey</td>\n",
       "      <td>Orange</td>\n",
       "      <td>2006</td>\n",
       "      <td>71183.23</td>\n",
       "      <td>2</td>\n",
       "      <td>0.69</td>\n",
       "      <td>52125-774</td>\n",
       "      <td>Jilleen Bennit</td>\n",
       "      <td>Female</td>\n",
       "      <td>Junior Executive</td>\n",
       "      <td>502-107-6172</td>\n",
       "      <td>jbennitpg@abc.net.au</td>\n",
       "      <td>Louisville</td>\n",
       "      <td>United States</td>\n",
       "      <td>Kentucky</td>\n",
       "      <td>3 Hagan Point</td>\n",
       "      <td>2018-01-01</td>\n",
       "      <td>22700-134</td>\n",
       "      <td>2018-01-26</td>\n",
       "      <td>Same Day</td>\n",
       "      <td>Truck</td>\n",
       "      <td>40256</td>\n",
       "      <td>maestro</td>\n",
       "      <td>2990000000000000.00</td>\n",
       "      <td>Very Good</td>\n",
       "      <td>1</td>\n",
       "    </tr>\n",
       "    <tr>\n",
       "      <th>2</th>\n",
       "      <td>1046</td>\n",
       "      <td>Oozz</td>\n",
       "      <td>684-23-0409</td>\n",
       "      <td>4520</td>\n",
       "      <td>Toyota</td>\n",
       "      <td>Land Cruiser</td>\n",
       "      <td>Fuscia</td>\n",
       "      <td>2011</td>\n",
       "      <td>82108.12</td>\n",
       "      <td>1</td>\n",
       "      <td>0.56</td>\n",
       "      <td>10157-9875</td>\n",
       "      <td>Bernadene Lorkings</td>\n",
       "      <td>Female</td>\n",
       "      <td>Administrative Officer</td>\n",
       "      <td>561-927-9650</td>\n",
       "      <td>blorkings6q@e-recht24.de</td>\n",
       "      <td>Delray Beach</td>\n",
       "      <td>United States</td>\n",
       "      <td>Florida</td>\n",
       "      <td>72 Becker Center</td>\n",
       "      <td>2018-01-01</td>\n",
       "      <td>39822-4200</td>\n",
       "      <td>2018-05-01</td>\n",
       "      <td>Second Class</td>\n",
       "      <td>Air</td>\n",
       "      <td>33448</td>\n",
       "      <td>diners-club-international</td>\n",
       "      <td>3810000000000000.00</td>\n",
       "      <td>Okay</td>\n",
       "      <td>1</td>\n",
       "    </tr>\n",
       "    <tr>\n",
       "      <th>3</th>\n",
       "      <td>3532</td>\n",
       "      <td>Thoughtbeat</td>\n",
       "      <td>825-86-8630</td>\n",
       "      <td>3616</td>\n",
       "      <td>Mitsubishi</td>\n",
       "      <td>Lancer</td>\n",
       "      <td>Blue</td>\n",
       "      <td>2004</td>\n",
       "      <td>96497.56</td>\n",
       "      <td>2</td>\n",
       "      <td>0.68</td>\n",
       "      <td>46123-039</td>\n",
       "      <td>Dominick Holdforth</td>\n",
       "      <td>Male</td>\n",
       "      <td>Engineer IV</td>\n",
       "      <td>410-617-9937</td>\n",
       "      <td>dholdforth96@auda.org.au</td>\n",
       "      <td>Baltimore</td>\n",
       "      <td>United States</td>\n",
       "      <td>Maryland</td>\n",
       "      <td>5 Prairie Rose Center</td>\n",
       "      <td>2018-01-01</td>\n",
       "      <td>49349-206</td>\n",
       "      <td>2018-04-03</td>\n",
       "      <td>Same Day</td>\n",
       "      <td>Air</td>\n",
       "      <td>21203</td>\n",
       "      <td>jcb</td>\n",
       "      <td>1330000000000000.00</td>\n",
       "      <td>Good</td>\n",
       "      <td>1</td>\n",
       "    </tr>\n",
       "    <tr>\n",
       "      <th>4</th>\n",
       "      <td>3047</td>\n",
       "      <td>Mydeo</td>\n",
       "      <td>128-94-2595</td>\n",
       "      <td>4700</td>\n",
       "      <td>Nissan</td>\n",
       "      <td>NX</td>\n",
       "      <td>Purple</td>\n",
       "      <td>1992</td>\n",
       "      <td>96090.34</td>\n",
       "      <td>1</td>\n",
       "      <td>0.66</td>\n",
       "      <td>40042-050</td>\n",
       "      <td>Vergil Grafton-Herbert</td>\n",
       "      <td>Male</td>\n",
       "      <td>Mechanical Systems Engineer</td>\n",
       "      <td>402-582-1673</td>\n",
       "      <td>vgraftonherberthn@sun.com</td>\n",
       "      <td>Omaha</td>\n",
       "      <td>United States</td>\n",
       "      <td>Nebraska</td>\n",
       "      <td>9152 Fisk Court</td>\n",
       "      <td>2018-01-01</td>\n",
       "      <td>51389-255</td>\n",
       "      <td>2018-02-18</td>\n",
       "      <td>Same Day</td>\n",
       "      <td>Air</td>\n",
       "      <td>68134</td>\n",
       "      <td>jcb</td>\n",
       "      <td>3560000000000000.00</td>\n",
       "      <td>Good</td>\n",
       "      <td>1</td>\n",
       "    </tr>\n",
       "  </tbody>\n",
       "</table>\n",
       "</div>"
      ],
      "text/plain": [
       "   shipper_id shipper_name shipper_contact_details  product_id vehicle_maker  \\\n",
       "0        1617      Feedmix             125-29-5865        4383        Jaguar   \n",
       "1        3199       Oyoloo             850-05-1383        3513       Mercury   \n",
       "2        1046         Oozz             684-23-0409        4520        Toyota   \n",
       "3        3532  Thoughtbeat             825-86-8630        3616    Mitsubishi   \n",
       "4        3047        Mydeo             128-94-2595        4700        Nissan   \n",
       "\n",
       "  vehicle_model vehicle_color  vehicle_model_year  vehicle_price  quantity  \\\n",
       "0     XJ Series        Indigo                2003       92186.18         1   \n",
       "1      Monterey        Orange                2006       71183.23         2   \n",
       "2  Land Cruiser        Fuscia                2011       82108.12         1   \n",
       "3        Lancer          Blue                2004       96497.56         2   \n",
       "4            NX        Purple                1992       96090.34         1   \n",
       "\n",
       "   discount customer_id           customer_name  gender  \\\n",
       "0      0.60  55154-1385           Reece Pummell    Male   \n",
       "1      0.69   52125-774          Jilleen Bennit  Female   \n",
       "2      0.56  10157-9875      Bernadene Lorkings  Female   \n",
       "3      0.68   46123-039      Dominick Holdforth    Male   \n",
       "4      0.66   40042-050  Vergil Grafton-Herbert    Male   \n",
       "\n",
       "                     job_title  phone_number              email_address  \\\n",
       "0              Design Engineer  864-849-1464         rpummelllf@hhs.gov   \n",
       "1             Junior Executive  502-107-6172       jbennitpg@abc.net.au   \n",
       "2       Administrative Officer  561-927-9650   blorkings6q@e-recht24.de   \n",
       "3                  Engineer IV  410-617-9937   dholdforth96@auda.org.au   \n",
       "4  Mechanical Systems Engineer  402-582-1673  vgraftonherberthn@sun.com   \n",
       "\n",
       "           city        country           state        customer_address  \\\n",
       "0    Greenville  United States  South Carolina  056 High Crossing Lane   \n",
       "1    Louisville  United States        Kentucky           3 Hagan Point   \n",
       "2  Delray Beach  United States         Florida        72 Becker Center   \n",
       "3     Baltimore  United States        Maryland   5 Prairie Rose Center   \n",
       "4         Omaha  United States        Nebraska         9152 Fisk Court   \n",
       "\n",
       "   order_date    order_id   ship_date     ship_mode shipping  postal_code  \\\n",
       "0  2018-01-01   10237-833  2018-03-04   First Class      Air        29615   \n",
       "1  2018-01-01   22700-134  2018-01-26      Same Day    Truck        40256   \n",
       "2  2018-01-01  39822-4200  2018-05-01  Second Class      Air        33448   \n",
       "3  2018-01-01   49349-206  2018-04-03      Same Day      Air        21203   \n",
       "4  2018-01-01   51389-255  2018-02-18      Same Day      Air        68134   \n",
       "\n",
       "            credit_card_type  credit_card_number customer_feedback  \\\n",
       "0                        jcb 4780000000000000.00               Bad   \n",
       "1                    maestro 2990000000000000.00         Very Good   \n",
       "2  diners-club-international 3810000000000000.00              Okay   \n",
       "3                        jcb 1330000000000000.00              Good   \n",
       "4                        jcb 3560000000000000.00              Good   \n",
       "\n",
       "   quarter_number  \n",
       "0               1  \n",
       "1               1  \n",
       "2               1  \n",
       "3               1  \n",
       "4               1  "
      ]
     },
     "execution_count": 27,
     "metadata": {},
     "output_type": "execute_result"
    },
    {
     "data": {
      "application/javascript": [
       "\n",
       "            setTimeout(function() {\n",
       "                var nbb_cell_id = 27;\n",
       "                var nbb_unformatted_code = \"df.head()\";\n",
       "                var nbb_formatted_code = \"df.head()\";\n",
       "                var nbb_cells = Jupyter.notebook.get_cells();\n",
       "                for (var i = 0; i < nbb_cells.length; ++i) {\n",
       "                    if (nbb_cells[i].input_prompt_number == nbb_cell_id) {\n",
       "                        if (nbb_cells[i].get_text() == nbb_unformatted_code) {\n",
       "                             nbb_cells[i].set_text(nbb_formatted_code);\n",
       "                        }\n",
       "                        break;\n",
       "                    }\n",
       "                }\n",
       "            }, 500);\n",
       "            "
      ],
      "text/plain": [
       "<IPython.core.display.Javascript object>"
      ]
     },
     "metadata": {},
     "output_type": "display_data"
    }
   ],
   "source": [
    "df.head()"
   ]
  },
  {
   "cell_type": "code",
   "execution_count": 44,
   "id": "b1ebe487",
   "metadata": {},
   "outputs": [
    {
     "data": {
      "text/plain": [
       "False    994\n",
       "True       6\n",
       "Name: customer_name, dtype: int64"
      ]
     },
     "execution_count": 44,
     "metadata": {},
     "output_type": "execute_result"
    },
    {
     "data": {
      "application/javascript": [
       "\n",
       "            setTimeout(function() {\n",
       "                var nbb_cell_id = 44;\n",
       "                var nbb_unformatted_code = \"is_duplicate_name = df[\\\"customer_id\\\"].duplicated()\\nduplicated_name.value_counts()\";\n",
       "                var nbb_formatted_code = \"is_duplicate_name = df[\\\"customer_id\\\"].duplicated()\\nduplicated_name.value_counts()\";\n",
       "                var nbb_cells = Jupyter.notebook.get_cells();\n",
       "                for (var i = 0; i < nbb_cells.length; ++i) {\n",
       "                    if (nbb_cells[i].input_prompt_number == nbb_cell_id) {\n",
       "                        if (nbb_cells[i].get_text() == nbb_unformatted_code) {\n",
       "                             nbb_cells[i].set_text(nbb_formatted_code);\n",
       "                        }\n",
       "                        break;\n",
       "                    }\n",
       "                }\n",
       "            }, 500);\n",
       "            "
      ],
      "text/plain": [
       "<IPython.core.display.Javascript object>"
      ]
     },
     "metadata": {},
     "output_type": "display_data"
    }
   ],
   "source": [
    "is_duplicate_name = df[\"customer_id\"].duplicated()\n",
    "duplicated_name.value_counts()"
   ]
  },
  {
   "cell_type": "code",
   "execution_count": 45,
   "id": "6fc0f605",
   "metadata": {},
   "outputs": [
    {
     "data": {
      "text/plain": [
       "[449, 483, 611, 848, 884, 921]"
      ]
     },
     "execution_count": 45,
     "metadata": {},
     "output_type": "execute_result"
    },
    {
     "data": {
      "application/javascript": [
       "\n",
       "            setTimeout(function() {\n",
       "                var nbb_cell_id = 45;\n",
       "                var nbb_unformatted_code = \"df.index[is_duplicate_name == True].tolist()\";\n",
       "                var nbb_formatted_code = \"df.index[is_duplicate_name == True].tolist()\";\n",
       "                var nbb_cells = Jupyter.notebook.get_cells();\n",
       "                for (var i = 0; i < nbb_cells.length; ++i) {\n",
       "                    if (nbb_cells[i].input_prompt_number == nbb_cell_id) {\n",
       "                        if (nbb_cells[i].get_text() == nbb_unformatted_code) {\n",
       "                             nbb_cells[i].set_text(nbb_formatted_code);\n",
       "                        }\n",
       "                        break;\n",
       "                    }\n",
       "                }\n",
       "            }, 500);\n",
       "            "
      ],
      "text/plain": [
       "<IPython.core.display.Javascript object>"
      ]
     },
     "metadata": {},
     "output_type": "display_data"
    }
   ],
   "source": [
    "df.index[is_duplicate_name == True].tolist()"
   ]
  },
  {
   "cell_type": "code",
   "execution_count": 46,
   "id": "8d0ea8a1",
   "metadata": {},
   "outputs": [
    {
     "data": {
      "text/plain": [
       "True"
      ]
     },
     "execution_count": 46,
     "metadata": {},
     "output_type": "execute_result"
    },
    {
     "data": {
      "application/javascript": [
       "\n",
       "            setTimeout(function() {\n",
       "                var nbb_cell_id = 46;\n",
       "                var nbb_unformatted_code = \"is_duplicate_name.iloc[449]\";\n",
       "                var nbb_formatted_code = \"is_duplicate_name.iloc[449]\";\n",
       "                var nbb_cells = Jupyter.notebook.get_cells();\n",
       "                for (var i = 0; i < nbb_cells.length; ++i) {\n",
       "                    if (nbb_cells[i].input_prompt_number == nbb_cell_id) {\n",
       "                        if (nbb_cells[i].get_text() == nbb_unformatted_code) {\n",
       "                             nbb_cells[i].set_text(nbb_formatted_code);\n",
       "                        }\n",
       "                        break;\n",
       "                    }\n",
       "                }\n",
       "            }, 500);\n",
       "            "
      ],
      "text/plain": [
       "<IPython.core.display.Javascript object>"
      ]
     },
     "metadata": {},
     "output_type": "display_data"
    }
   ],
   "source": [
    "is_duplicate_name.iloc[449]"
   ]
  },
  {
   "cell_type": "code",
   "execution_count": 47,
   "id": "52077c6e",
   "metadata": {},
   "outputs": [
    {
     "data": {
      "text/html": [
       "<div>\n",
       "<style scoped>\n",
       "    .dataframe tbody tr th:only-of-type {\n",
       "        vertical-align: middle;\n",
       "    }\n",
       "\n",
       "    .dataframe tbody tr th {\n",
       "        vertical-align: top;\n",
       "    }\n",
       "\n",
       "    .dataframe thead th {\n",
       "        text-align: right;\n",
       "    }\n",
       "</style>\n",
       "<table border=\"1\" class=\"dataframe\">\n",
       "  <thead>\n",
       "    <tr style=\"text-align: right;\">\n",
       "      <th></th>\n",
       "      <th>shipper_id</th>\n",
       "      <th>shipper_name</th>\n",
       "      <th>shipper_contact_details</th>\n",
       "      <th>product_id</th>\n",
       "      <th>vehicle_maker</th>\n",
       "      <th>vehicle_model</th>\n",
       "      <th>vehicle_color</th>\n",
       "      <th>vehicle_model_year</th>\n",
       "      <th>vehicle_price</th>\n",
       "      <th>quantity</th>\n",
       "      <th>discount</th>\n",
       "      <th>customer_id</th>\n",
       "      <th>customer_name</th>\n",
       "      <th>gender</th>\n",
       "      <th>job_title</th>\n",
       "      <th>phone_number</th>\n",
       "      <th>email_address</th>\n",
       "      <th>city</th>\n",
       "      <th>country</th>\n",
       "      <th>state</th>\n",
       "      <th>customer_address</th>\n",
       "      <th>order_date</th>\n",
       "      <th>order_id</th>\n",
       "      <th>ship_date</th>\n",
       "      <th>ship_mode</th>\n",
       "      <th>shipping</th>\n",
       "      <th>postal_code</th>\n",
       "      <th>credit_card_type</th>\n",
       "      <th>credit_card_number</th>\n",
       "      <th>customer_feedback</th>\n",
       "      <th>quarter_number</th>\n",
       "    </tr>\n",
       "  </thead>\n",
       "  <tbody>\n",
       "    <tr>\n",
       "      <th>449</th>\n",
       "      <td>2952</td>\n",
       "      <td>Oyoyo</td>\n",
       "      <td>492-33-7581</td>\n",
       "      <td>4890</td>\n",
       "      <td>Mitsubishi</td>\n",
       "      <td>Excel</td>\n",
       "      <td>Teal</td>\n",
       "      <td>1989</td>\n",
       "      <td>84029.52</td>\n",
       "      <td>1</td>\n",
       "      <td>0.51</td>\n",
       "      <td>47593-359</td>\n",
       "      <td>Laurette Carn</td>\n",
       "      <td>Female</td>\n",
       "      <td>Developer IV</td>\n",
       "      <td>334-396-2155</td>\n",
       "      <td>lcarn7b@upenn.edu</td>\n",
       "      <td>Montgomery</td>\n",
       "      <td>United States</td>\n",
       "      <td>Alabama</td>\n",
       "      <td>93 Loomis Lane</td>\n",
       "      <td>2018-05-29</td>\n",
       "      <td>63146-103</td>\n",
       "      <td>2018-06-27</td>\n",
       "      <td>Standard Class</td>\n",
       "      <td>Air</td>\n",
       "      <td>36177</td>\n",
       "      <td>visa-electron</td>\n",
       "      <td>3020000000000000.00</td>\n",
       "      <td>Good</td>\n",
       "      <td>2</td>\n",
       "    </tr>\n",
       "    <tr>\n",
       "      <th>483</th>\n",
       "      <td>2213</td>\n",
       "      <td>Innojam</td>\n",
       "      <td>188-55-0225</td>\n",
       "      <td>3889</td>\n",
       "      <td>Mercedes-Benz</td>\n",
       "      <td>SL-Class</td>\n",
       "      <td>Turquoise</td>\n",
       "      <td>2009</td>\n",
       "      <td>95753.09</td>\n",
       "      <td>2</td>\n",
       "      <td>0.63</td>\n",
       "      <td>49693-1801</td>\n",
       "      <td>Barbee Cathel</td>\n",
       "      <td>Female</td>\n",
       "      <td>Chemical Engineer</td>\n",
       "      <td>812-935-0173</td>\n",
       "      <td>bcathelk@paginegialle.it</td>\n",
       "      <td>Bloomington</td>\n",
       "      <td>United States</td>\n",
       "      <td>Indiana</td>\n",
       "      <td>618 Bunting Court</td>\n",
       "      <td>2018-06-14</td>\n",
       "      <td>28107-003</td>\n",
       "      <td>2018-07-19</td>\n",
       "      <td>Second Class</td>\n",
       "      <td>Air</td>\n",
       "      <td>47405</td>\n",
       "      <td>china-unionpay</td>\n",
       "      <td>3670000000000000.00</td>\n",
       "      <td>Bad</td>\n",
       "      <td>2</td>\n",
       "    </tr>\n",
       "    <tr>\n",
       "      <th>611</th>\n",
       "      <td>3810</td>\n",
       "      <td>Brainlounge</td>\n",
       "      <td>367-08-2475</td>\n",
       "      <td>4193</td>\n",
       "      <td>Suzuki</td>\n",
       "      <td>X-90</td>\n",
       "      <td>Mauv</td>\n",
       "      <td>1998</td>\n",
       "      <td>97848.78</td>\n",
       "      <td>1</td>\n",
       "      <td>0.65</td>\n",
       "      <td>76237-153</td>\n",
       "      <td>Cindy Gertray</td>\n",
       "      <td>Female</td>\n",
       "      <td>Recruiter</td>\n",
       "      <td>404-979-2302</td>\n",
       "      <td>cgertray6n@mapy.cz</td>\n",
       "      <td>Atlanta</td>\n",
       "      <td>United States</td>\n",
       "      <td>Georgia</td>\n",
       "      <td>01044 Dayton Center</td>\n",
       "      <td>2018-07-15</td>\n",
       "      <td>68382-022</td>\n",
       "      <td>2018-08-19</td>\n",
       "      <td>Second Class</td>\n",
       "      <td>Air</td>\n",
       "      <td>30343</td>\n",
       "      <td>maestro</td>\n",
       "      <td>2130000000000000.00</td>\n",
       "      <td>Very Good</td>\n",
       "      <td>3</td>\n",
       "    </tr>\n",
       "    <tr>\n",
       "      <th>848</th>\n",
       "      <td>2730</td>\n",
       "      <td>Babblestorm</td>\n",
       "      <td>470-73-7676</td>\n",
       "      <td>4371</td>\n",
       "      <td>Toyota</td>\n",
       "      <td>Tacoma</td>\n",
       "      <td>Goldenrod</td>\n",
       "      <td>2001</td>\n",
       "      <td>76320.59</td>\n",
       "      <td>2</td>\n",
       "      <td>0.66</td>\n",
       "      <td>43269-780</td>\n",
       "      <td>Armstrong Cripin</td>\n",
       "      <td>Male</td>\n",
       "      <td>Chemical Engineer</td>\n",
       "      <td>574-485-6534</td>\n",
       "      <td>acripin4u@loc.gov</td>\n",
       "      <td>South Bend</td>\n",
       "      <td>United States</td>\n",
       "      <td>Indiana</td>\n",
       "      <td>08365 Pepper Wood Center</td>\n",
       "      <td>2018-10-18</td>\n",
       "      <td>49999-885</td>\n",
       "      <td>2019-05-22</td>\n",
       "      <td>Standard Class</td>\n",
       "      <td>Air</td>\n",
       "      <td>46620</td>\n",
       "      <td>jcb</td>\n",
       "      <td>3510000000000000.00</td>\n",
       "      <td>Very Bad</td>\n",
       "      <td>4</td>\n",
       "    </tr>\n",
       "    <tr>\n",
       "      <th>884</th>\n",
       "      <td>1718</td>\n",
       "      <td>Meezzy</td>\n",
       "      <td>409-44-1664</td>\n",
       "      <td>4214</td>\n",
       "      <td>Ford</td>\n",
       "      <td>Aerostar</td>\n",
       "      <td>Red</td>\n",
       "      <td>1997</td>\n",
       "      <td>73071.88</td>\n",
       "      <td>2</td>\n",
       "      <td>0.58</td>\n",
       "      <td>36987-3061</td>\n",
       "      <td>Standford Goodhall</td>\n",
       "      <td>Male</td>\n",
       "      <td>Software Consultant</td>\n",
       "      <td>240-408-7636</td>\n",
       "      <td>sgoodhallfz@mozilla.com</td>\n",
       "      <td>Silver Spring</td>\n",
       "      <td>United States</td>\n",
       "      <td>Maryland</td>\n",
       "      <td>55189 Thackeray Parkway</td>\n",
       "      <td>2018-10-31</td>\n",
       "      <td>0013-2651</td>\n",
       "      <td>2019-05-06</td>\n",
       "      <td>First Class</td>\n",
       "      <td>Air</td>\n",
       "      <td>20904</td>\n",
       "      <td>diners-club-carte-blanche</td>\n",
       "      <td>4990000000000000.00</td>\n",
       "      <td>Okay</td>\n",
       "      <td>4</td>\n",
       "    </tr>\n",
       "    <tr>\n",
       "      <th>921</th>\n",
       "      <td>3331</td>\n",
       "      <td>Twitterworks</td>\n",
       "      <td>135-09-6171</td>\n",
       "      <td>4360</td>\n",
       "      <td>Mercedes-Benz</td>\n",
       "      <td>SL-Class</td>\n",
       "      <td>Yellow</td>\n",
       "      <td>2011</td>\n",
       "      <td>82328.01</td>\n",
       "      <td>1</td>\n",
       "      <td>0.71</td>\n",
       "      <td>53603-1006</td>\n",
       "      <td>Gonzales Shoard</td>\n",
       "      <td>Male</td>\n",
       "      <td>Community Outreach Specialist</td>\n",
       "      <td>915-824-4121</td>\n",
       "      <td>gshoard4v@example.com</td>\n",
       "      <td>El Paso</td>\n",
       "      <td>United States</td>\n",
       "      <td>Texas</td>\n",
       "      <td>6 Anthes Avenue</td>\n",
       "      <td>2018-11-14</td>\n",
       "      <td>68788-0686</td>\n",
       "      <td>2019-06-19</td>\n",
       "      <td>Standard Class</td>\n",
       "      <td>Truck</td>\n",
       "      <td>88558</td>\n",
       "      <td>mastercard</td>\n",
       "      <td>2390000000000000.00</td>\n",
       "      <td>Very Bad</td>\n",
       "      <td>4</td>\n",
       "    </tr>\n",
       "  </tbody>\n",
       "</table>\n",
       "</div>"
      ],
      "text/plain": [
       "     shipper_id  shipper_name shipper_contact_details  product_id  \\\n",
       "449        2952         Oyoyo             492-33-7581        4890   \n",
       "483        2213       Innojam             188-55-0225        3889   \n",
       "611        3810   Brainlounge             367-08-2475        4193   \n",
       "848        2730   Babblestorm             470-73-7676        4371   \n",
       "884        1718        Meezzy             409-44-1664        4214   \n",
       "921        3331  Twitterworks             135-09-6171        4360   \n",
       "\n",
       "     vehicle_maker vehicle_model vehicle_color  vehicle_model_year  \\\n",
       "449     Mitsubishi         Excel          Teal                1989   \n",
       "483  Mercedes-Benz      SL-Class     Turquoise                2009   \n",
       "611         Suzuki          X-90          Mauv                1998   \n",
       "848         Toyota        Tacoma     Goldenrod                2001   \n",
       "884           Ford      Aerostar           Red                1997   \n",
       "921  Mercedes-Benz      SL-Class        Yellow                2011   \n",
       "\n",
       "     vehicle_price  quantity  discount customer_id       customer_name  \\\n",
       "449       84029.52         1      0.51   47593-359       Laurette Carn   \n",
       "483       95753.09         2      0.63  49693-1801       Barbee Cathel   \n",
       "611       97848.78         1      0.65   76237-153       Cindy Gertray   \n",
       "848       76320.59         2      0.66   43269-780    Armstrong Cripin   \n",
       "884       73071.88         2      0.58  36987-3061  Standford Goodhall   \n",
       "921       82328.01         1      0.71  53603-1006     Gonzales Shoard   \n",
       "\n",
       "     gender                      job_title  phone_number  \\\n",
       "449  Female                   Developer IV  334-396-2155   \n",
       "483  Female              Chemical Engineer  812-935-0173   \n",
       "611  Female                      Recruiter  404-979-2302   \n",
       "848    Male              Chemical Engineer  574-485-6534   \n",
       "884    Male            Software Consultant  240-408-7636   \n",
       "921    Male  Community Outreach Specialist  915-824-4121   \n",
       "\n",
       "                email_address           city        country     state  \\\n",
       "449         lcarn7b@upenn.edu     Montgomery  United States   Alabama   \n",
       "483  bcathelk@paginegialle.it    Bloomington  United States   Indiana   \n",
       "611        cgertray6n@mapy.cz        Atlanta  United States   Georgia   \n",
       "848         acripin4u@loc.gov     South Bend  United States   Indiana   \n",
       "884   sgoodhallfz@mozilla.com  Silver Spring  United States  Maryland   \n",
       "921     gshoard4v@example.com        El Paso  United States     Texas   \n",
       "\n",
       "             customer_address  order_date    order_id   ship_date  \\\n",
       "449            93 Loomis Lane  2018-05-29   63146-103  2018-06-27   \n",
       "483         618 Bunting Court  2018-06-14   28107-003  2018-07-19   \n",
       "611       01044 Dayton Center  2018-07-15   68382-022  2018-08-19   \n",
       "848  08365 Pepper Wood Center  2018-10-18   49999-885  2019-05-22   \n",
       "884   55189 Thackeray Parkway  2018-10-31   0013-2651  2019-05-06   \n",
       "921           6 Anthes Avenue  2018-11-14  68788-0686  2019-06-19   \n",
       "\n",
       "          ship_mode shipping  postal_code           credit_card_type  \\\n",
       "449  Standard Class      Air        36177              visa-electron   \n",
       "483    Second Class      Air        47405             china-unionpay   \n",
       "611    Second Class      Air        30343                    maestro   \n",
       "848  Standard Class      Air        46620                        jcb   \n",
       "884     First Class      Air        20904  diners-club-carte-blanche   \n",
       "921  Standard Class    Truck        88558                 mastercard   \n",
       "\n",
       "     credit_card_number customer_feedback  quarter_number  \n",
       "449 3020000000000000.00              Good               2  \n",
       "483 3670000000000000.00               Bad               2  \n",
       "611 2130000000000000.00         Very Good               3  \n",
       "848 3510000000000000.00          Very Bad               4  \n",
       "884 4990000000000000.00              Okay               4  \n",
       "921 2390000000000000.00          Very Bad               4  "
      ]
     },
     "execution_count": 47,
     "metadata": {},
     "output_type": "execute_result"
    },
    {
     "data": {
      "application/javascript": [
       "\n",
       "            setTimeout(function() {\n",
       "                var nbb_cell_id = 47;\n",
       "                var nbb_unformatted_code = \"six_duplicates = df.loc[is_duplicate_name == True]\\nsix_duplicates\";\n",
       "                var nbb_formatted_code = \"six_duplicates = df.loc[is_duplicate_name == True]\\nsix_duplicates\";\n",
       "                var nbb_cells = Jupyter.notebook.get_cells();\n",
       "                for (var i = 0; i < nbb_cells.length; ++i) {\n",
       "                    if (nbb_cells[i].input_prompt_number == nbb_cell_id) {\n",
       "                        if (nbb_cells[i].get_text() == nbb_unformatted_code) {\n",
       "                             nbb_cells[i].set_text(nbb_formatted_code);\n",
       "                        }\n",
       "                        break;\n",
       "                    }\n",
       "                }\n",
       "            }, 500);\n",
       "            "
      ],
      "text/plain": [
       "<IPython.core.display.Javascript object>"
      ]
     },
     "metadata": {},
     "output_type": "display_data"
    }
   ],
   "source": [
    "six_duplicates = df.loc[is_duplicate_name == True]\n",
    "six_duplicates"
   ]
  },
  {
   "cell_type": "code",
   "execution_count": 48,
   "id": "6d679ea9",
   "metadata": {},
   "outputs": [
    {
     "data": {
      "text/plain": [
       "449         Laurette Carn\n",
       "483         Barbee Cathel\n",
       "611         Cindy Gertray\n",
       "848      Armstrong Cripin\n",
       "884    Standford Goodhall\n",
       "921       Gonzales Shoard\n",
       "Name: customer_name, dtype: object"
      ]
     },
     "execution_count": 48,
     "metadata": {},
     "output_type": "execute_result"
    },
    {
     "data": {
      "application/javascript": [
       "\n",
       "            setTimeout(function() {\n",
       "                var nbb_cell_id = 48;\n",
       "                var nbb_unformatted_code = \"six_duplicates[\\\"customer_name\\\"]\";\n",
       "                var nbb_formatted_code = \"six_duplicates[\\\"customer_name\\\"]\";\n",
       "                var nbb_cells = Jupyter.notebook.get_cells();\n",
       "                for (var i = 0; i < nbb_cells.length; ++i) {\n",
       "                    if (nbb_cells[i].input_prompt_number == nbb_cell_id) {\n",
       "                        if (nbb_cells[i].get_text() == nbb_unformatted_code) {\n",
       "                             nbb_cells[i].set_text(nbb_formatted_code);\n",
       "                        }\n",
       "                        break;\n",
       "                    }\n",
       "                }\n",
       "            }, 500);\n",
       "            "
      ],
      "text/plain": [
       "<IPython.core.display.Javascript object>"
      ]
     },
     "metadata": {},
     "output_type": "display_data"
    }
   ],
   "source": [
    "six_duplicates[\"customer_name\"]"
   ]
  },
  {
   "cell_type": "code",
   "execution_count": 54,
   "id": "afd35fd5",
   "metadata": {},
   "outputs": [
    {
     "data": {
      "text/html": [
       "<div>\n",
       "<style scoped>\n",
       "    .dataframe tbody tr th:only-of-type {\n",
       "        vertical-align: middle;\n",
       "    }\n",
       "\n",
       "    .dataframe tbody tr th {\n",
       "        vertical-align: top;\n",
       "    }\n",
       "\n",
       "    .dataframe thead th {\n",
       "        text-align: right;\n",
       "    }\n",
       "</style>\n",
       "<table border=\"1\" class=\"dataframe\">\n",
       "  <thead>\n",
       "    <tr style=\"text-align: right;\">\n",
       "      <th></th>\n",
       "      <th>vehicle_price</th>\n",
       "      <th>discount</th>\n",
       "      <th>quantity</th>\n",
       "    </tr>\n",
       "  </thead>\n",
       "  <tbody>\n",
       "    <tr>\n",
       "      <th>count</th>\n",
       "      <td>1000.00</td>\n",
       "      <td>1000.00</td>\n",
       "      <td>1000.00</td>\n",
       "    </tr>\n",
       "    <tr>\n",
       "      <th>mean</th>\n",
       "      <td>83115.00</td>\n",
       "      <td>0.61</td>\n",
       "      <td>1.51</td>\n",
       "    </tr>\n",
       "    <tr>\n",
       "      <th>std</th>\n",
       "      <td>9285.09</td>\n",
       "      <td>0.09</td>\n",
       "      <td>0.50</td>\n",
       "    </tr>\n",
       "    <tr>\n",
       "      <th>min</th>\n",
       "      <td>63033.78</td>\n",
       "      <td>0.40</td>\n",
       "      <td>1.00</td>\n",
       "    </tr>\n",
       "    <tr>\n",
       "      <th>25%</th>\n",
       "      <td>75364.64</td>\n",
       "      <td>0.54</td>\n",
       "      <td>1.00</td>\n",
       "    </tr>\n",
       "    <tr>\n",
       "      <th>50%</th>\n",
       "      <td>83039.26</td>\n",
       "      <td>0.62</td>\n",
       "      <td>2.00</td>\n",
       "    </tr>\n",
       "    <tr>\n",
       "      <th>75%</th>\n",
       "      <td>90623.71</td>\n",
       "      <td>0.69</td>\n",
       "      <td>2.00</td>\n",
       "    </tr>\n",
       "    <tr>\n",
       "      <th>max</th>\n",
       "      <td>99931.57</td>\n",
       "      <td>0.80</td>\n",
       "      <td>2.00</td>\n",
       "    </tr>\n",
       "  </tbody>\n",
       "</table>\n",
       "</div>"
      ],
      "text/plain": [
       "       vehicle_price  discount  quantity\n",
       "count        1000.00   1000.00   1000.00\n",
       "mean        83115.00      0.61      1.51\n",
       "std          9285.09      0.09      0.50\n",
       "min         63033.78      0.40      1.00\n",
       "25%         75364.64      0.54      1.00\n",
       "50%         83039.26      0.62      2.00\n",
       "75%         90623.71      0.69      2.00\n",
       "max         99931.57      0.80      2.00"
      ]
     },
     "execution_count": 54,
     "metadata": {},
     "output_type": "execute_result"
    },
    {
     "data": {
      "application/javascript": [
       "\n",
       "            setTimeout(function() {\n",
       "                var nbb_cell_id = 54;\n",
       "                var nbb_unformatted_code = \"# Describe Continuous Numeric Features\\n\\ndescribeContinuous = set(df.columns) - {\\n    \\\"shipper_id\\\",\\n    \\\"shipper_name\\\",\\n    \\\"shipper_contact_details\\\",\\n    \\\"product_id\\\",\\n    \\\"vehicle_maker\\\",\\n    \\\"vehicle_model\\\",\\n    \\\"vehicle_color\\\",\\n    \\\"vehicle_model_year\\\",\\n    \\\"customer_id\\\",\\n    \\\"customer_name\\\",\\n    \\\"gender\\\",\\n    \\\"job_title\\\",\\n    \\\"phone_number\\\",\\n    \\\"email_address\\\",\\n    \\\"city\\\",\\n    \\\"country\\\",\\n    \\\"state\\\",\\n    \\\"customer_address\\\",\\n    \\\"order_date\\\",\\n    \\\"order_id\\\",\\n    \\\"ship_date\\\",\\n    \\\"ship_mode\\\",\\n    \\\"shipping\\\",\\n    \\\"postal_code\\\",\\n    \\\"credit_card_type\\\",\\n    \\\"credit_card_number\\\",\\n    \\\"customer_feedback\\\",\\n    \\\"quarter_number\\\",\\n}\\ndf1 = df[list(describeContinuous)]\\ndf1.describe().round(2)\";\n",
       "                var nbb_formatted_code = \"# Describe Continuous Numeric Features\\n\\ndescribeContinuous = set(df.columns) - {\\n    \\\"shipper_id\\\",\\n    \\\"shipper_name\\\",\\n    \\\"shipper_contact_details\\\",\\n    \\\"product_id\\\",\\n    \\\"vehicle_maker\\\",\\n    \\\"vehicle_model\\\",\\n    \\\"vehicle_color\\\",\\n    \\\"vehicle_model_year\\\",\\n    \\\"customer_id\\\",\\n    \\\"customer_name\\\",\\n    \\\"gender\\\",\\n    \\\"job_title\\\",\\n    \\\"phone_number\\\",\\n    \\\"email_address\\\",\\n    \\\"city\\\",\\n    \\\"country\\\",\\n    \\\"state\\\",\\n    \\\"customer_address\\\",\\n    \\\"order_date\\\",\\n    \\\"order_id\\\",\\n    \\\"ship_date\\\",\\n    \\\"ship_mode\\\",\\n    \\\"shipping\\\",\\n    \\\"postal_code\\\",\\n    \\\"credit_card_type\\\",\\n    \\\"credit_card_number\\\",\\n    \\\"customer_feedback\\\",\\n    \\\"quarter_number\\\",\\n}\\ndf1 = df[list(describeContinuous)]\\ndf1.describe().round(2)\";\n",
       "                var nbb_cells = Jupyter.notebook.get_cells();\n",
       "                for (var i = 0; i < nbb_cells.length; ++i) {\n",
       "                    if (nbb_cells[i].input_prompt_number == nbb_cell_id) {\n",
       "                        if (nbb_cells[i].get_text() == nbb_unformatted_code) {\n",
       "                             nbb_cells[i].set_text(nbb_formatted_code);\n",
       "                        }\n",
       "                        break;\n",
       "                    }\n",
       "                }\n",
       "            }, 500);\n",
       "            "
      ],
      "text/plain": [
       "<IPython.core.display.Javascript object>"
      ]
     },
     "metadata": {},
     "output_type": "display_data"
    }
   ],
   "source": [
    "# Describe Continuous Numeric Features\n",
    "\n",
    "describeContinuous = set(df.columns) - {\n",
    "    \"shipper_id\",\n",
    "    \"shipper_name\",\n",
    "    \"shipper_contact_details\",\n",
    "    \"product_id\",\n",
    "    \"vehicle_maker\",\n",
    "    \"vehicle_model\",\n",
    "    \"vehicle_color\",\n",
    "    \"vehicle_model_year\",\n",
    "    \"customer_id\",\n",
    "    \"customer_name\",\n",
    "    \"gender\",\n",
    "    \"job_title\",\n",
    "    \"phone_number\",\n",
    "    \"email_address\",\n",
    "    \"city\",\n",
    "    \"country\",\n",
    "    \"state\",\n",
    "    \"customer_address\",\n",
    "    \"order_date\",\n",
    "    \"order_id\",\n",
    "    \"ship_date\",\n",
    "    \"ship_mode\",\n",
    "    \"shipping\",\n",
    "    \"postal_code\",\n",
    "    \"credit_card_type\",\n",
    "    \"credit_card_number\",\n",
    "    \"customer_feedback\",\n",
    "    \"quarter_number\",\n",
    "}\n",
    "df1 = df[list(describeContinuous)]\n",
    "df1.describe().round(2)"
   ]
  },
  {
   "cell_type": "code",
   "execution_count": null,
   "id": "4d9bf11c",
   "metadata": {},
   "outputs": [],
   "source": []
  }
 ],
 "metadata": {
  "kernelspec": {
   "display_name": "Python 3 (ipykernel)",
   "language": "python",
   "name": "python3"
  },
  "language_info": {
   "codemirror_mode": {
    "name": "ipython",
    "version": 3
   },
   "file_extension": ".py",
   "mimetype": "text/x-python",
   "name": "python",
   "nbconvert_exporter": "python",
   "pygments_lexer": "ipython3",
   "version": "3.9.9"
  }
 },
 "nbformat": 4,
 "nbformat_minor": 5
}
